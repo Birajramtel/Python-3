{
 "cells": [
  {
   "cell_type": "code",
   "execution_count": 8,
   "metadata": {},
   "outputs": [
    {
     "name": "stdout",
     "output_type": "stream",
     "text": [
      "How many number do you want to enter: 3\n",
      "Enter your roll number:1\n",
      "Enter your name: ram\n",
      "Enter your age: 23\n",
      "Enter your address: ktm\n",
      "Enter your roll number:2\n",
      "Enter your name: shyam\n",
      "Enter your age: 22\n",
      "Enter your address: bkt\n",
      "Enter your roll number:3\n",
      "Enter your name: bob\n",
      "Enter your age: 21\n",
      "Enter your address: patan\n",
      "{'roll': [1, 2, 3], 'name': ['ram', 'shyam', 'bob'], 'age': [23, 22, 21], 'add': ['ktm', 'bkt', 'patan']}\n"
     ]
    }
   ],
   "source": [
    "import pandas as pd\n",
    "b = open('detail.csv','a')\n",
    "n = int(input(\"How many number do you want to enter: \"))\n",
    "ro = []\n",
    "na = []\n",
    "ag = []\n",
    "ad = []\n",
    "for i in range(n):\n",
    "    roll = int(input(\"Enter your roll number:\"))\n",
    "    name = input(\"Enter your name: \")\n",
    "    age = int(input(\"Enter your age: \"))\n",
    "    add = input(\"Enter your address: \")\n",
    "    ro = ro +[roll]\n",
    "    na = na+[name]\n",
    "    ag = ag+[age]\n",
    "    ad = ad + [add]\n",
    "x = {'roll':ro, 'name':na, 'age':ag, 'add':ad}\n",
    "data = pd.DataFrame(x)\n",
    "data.to_csv('detail.csv')\n",
    "print(x)\n",
    "b.close()"
   ]
  },
  {
   "cell_type": "code",
   "execution_count": 26,
   "metadata": {},
   "outputs": [
    {
     "data": {
      "text/html": [
       "<div>\n",
       "<style scoped>\n",
       "    .dataframe tbody tr th:only-of-type {\n",
       "        vertical-align: middle;\n",
       "    }\n",
       "\n",
       "    .dataframe tbody tr th {\n",
       "        vertical-align: top;\n",
       "    }\n",
       "\n",
       "    .dataframe thead th {\n",
       "        text-align: right;\n",
       "    }\n",
       "</style>\n",
       "<table border=\"1\" class=\"dataframe\">\n",
       "  <thead>\n",
       "    <tr style=\"text-align: right;\">\n",
       "      <th></th>\n",
       "      <th>name</th>\n",
       "      <th>age</th>\n",
       "      <th>add</th>\n",
       "    </tr>\n",
       "    <tr>\n",
       "      <th>roll</th>\n",
       "      <th></th>\n",
       "      <th></th>\n",
       "      <th></th>\n",
       "    </tr>\n",
       "  </thead>\n",
       "  <tbody>\n",
       "    <tr>\n",
       "      <td>1</td>\n",
       "      <td>ram</td>\n",
       "      <td>23</td>\n",
       "      <td>ktm</td>\n",
       "    </tr>\n",
       "    <tr>\n",
       "      <td>2</td>\n",
       "      <td>shyam</td>\n",
       "      <td>22</td>\n",
       "      <td>bkt</td>\n",
       "    </tr>\n",
       "    <tr>\n",
       "      <td>3</td>\n",
       "      <td>bob</td>\n",
       "      <td>21</td>\n",
       "      <td>patan</td>\n",
       "    </tr>\n",
       "    <tr>\n",
       "      <td>4</td>\n",
       "      <td>alex</td>\n",
       "      <td>56</td>\n",
       "      <td>pkr</td>\n",
       "    </tr>\n",
       "    <tr>\n",
       "      <td>5</td>\n",
       "      <td>anna</td>\n",
       "      <td>26</td>\n",
       "      <td>lpt</td>\n",
       "    </tr>\n",
       "    <tr>\n",
       "      <td>6</td>\n",
       "      <td>flex</td>\n",
       "      <td>25</td>\n",
       "      <td>boudha</td>\n",
       "    </tr>\n",
       "    <tr>\n",
       "      <td>7</td>\n",
       "      <td>hh</td>\n",
       "      <td>21</td>\n",
       "      <td>akssn</td>\n",
       "    </tr>\n",
       "    <tr>\n",
       "      <td>8</td>\n",
       "      <td>asci</td>\n",
       "      <td>12</td>\n",
       "      <td>chvhsa</td>\n",
       "    </tr>\n",
       "  </tbody>\n",
       "</table>\n",
       "</div>"
      ],
      "text/plain": [
       "       name  age     add\n",
       "roll                    \n",
       "1       ram   23     ktm\n",
       "2     shyam   22     bkt\n",
       "3       bob   21   patan\n",
       "4      alex   56     pkr\n",
       "5      anna   26     lpt\n",
       "6      flex   25  boudha\n",
       "7        hh   21   akssn\n",
       "8      asci   12  chvhsa"
      ]
     },
     "execution_count": 26,
     "metadata": {},
     "output_type": "execute_result"
    }
   ],
   "source": [
    "import pandas as pd\n",
    "data = pd.read_csv('detail.csv',usecols=x,index_col ='roll')\n",
    "data"
   ]
  },
  {
   "cell_type": "code",
   "execution_count": 25,
   "metadata": {},
   "outputs": [
    {
     "name": "stdout",
     "output_type": "stream",
     "text": [
      "How many times do you want to run the program: 2\n",
      "Enter your roll: 7\n",
      "Enter your name: hh\n",
      "Enter your age: 21\n",
      "Enter your address: akssn\n",
      "Enter your roll: 8\n",
      "Enter your name: asci\n",
      "Enter your age: 12\n",
      "Enter your address: chvhsa\n"
     ]
    }
   ],
   "source": [
    "import csv\n",
    "with open('detail.csv','a') as csvFile:\n",
    "    n = int(input(\"How many times do you want to run the program: \"))\n",
    "    for i in range(n):\n",
    "        roll = int(input(\"Enter your roll: \"))\n",
    "        name = input(\"Enter your name: \")\n",
    "        age = int(input(\"Enter your age: \"))\n",
    "        add = input(\"Enter your address: \")\n",
    "        row = [roll, name,age,add]\n",
    "        writer = csv.writer(csvFile)\n",
    "        writer.writerow(row)\n",
    "csvFile.close()"
   ]
  },
  {
   "cell_type": "code",
   "execution_count": null,
   "metadata": {},
   "outputs": [],
   "source": []
  }
 ],
 "metadata": {
  "kernelspec": {
   "display_name": "Python 3",
   "language": "python",
   "name": "python3"
  },
  "language_info": {
   "codemirror_mode": {
    "name": "ipython",
    "version": 3
   },
   "file_extension": ".py",
   "mimetype": "text/x-python",
   "name": "python",
   "nbconvert_exporter": "python",
   "pygments_lexer": "ipython3",
   "version": "3.7.4"
  }
 },
 "nbformat": 4,
 "nbformat_minor": 2
}

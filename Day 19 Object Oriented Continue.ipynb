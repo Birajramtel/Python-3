{
 "cells": [
  {
   "cell_type": "code",
   "execution_count": 25,
   "metadata": {},
   "outputs": [
    {
     "name": "stdout",
     "output_type": "stream",
     "text": [
      "ram\n",
      "bob\n",
      "28\n",
      "ram\n"
     ]
    }
   ],
   "source": [
    "class Profile:\n",
    "    def __init__(self,name,names,age): #Constructor\n",
    "        self.__name = name\n",
    "        self.names = names\n",
    "        self._age = age\n",
    "        print(name)\n",
    "x = Profile(\"ram\",\"bob\",28)\n",
    "print(x.names)\n",
    "print(x._age)\n",
    "print(x._Profile__name)"
   ]
  },
  {
   "cell_type": "code",
   "execution_count": 18,
   "metadata": {},
   "outputs": [
    {
     "name": "stdout",
     "output_type": "stream",
     "text": [
      "Enter your name: ram\n",
      "Enter your age: 23\n",
      "You have entered ram. You have entered 23\n"
     ]
    }
   ],
   "source": [
    "n = input(\"Enter your name: \")\n",
    "a = int(input(\"Enter your age: \"))\n",
    "class Profile:\n",
    "    def __init__(self,name,age):\n",
    "        self._name = name\n",
    "        self.age = age\n",
    "        print(f\"You have entered {name}. You have entered {age}\")\n",
    "x = Profile(n,a)\n"
   ]
  },
  {
   "cell_type": "code",
   "execution_count": null,
   "metadata": {},
   "outputs": [],
   "source": []
  }
 ],
 "metadata": {
  "kernelspec": {
   "display_name": "Python 3",
   "language": "python",
   "name": "python3"
  },
  "language_info": {
   "codemirror_mode": {
    "name": "ipython",
    "version": 3
   },
   "file_extension": ".py",
   "mimetype": "text/x-python",
   "name": "python",
   "nbconvert_exporter": "python",
   "pygments_lexer": "ipython3",
   "version": "3.7.4"
  }
 },
 "nbformat": 4,
 "nbformat_minor": 2
}

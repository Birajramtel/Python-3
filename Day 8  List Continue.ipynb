{
 "cells": [
  {
   "cell_type": "code",
   "execution_count": 9,
   "metadata": {},
   "outputs": [
    {
     "data": {
      "text/plain": [
       "['d']"
      ]
     },
     "execution_count": 9,
     "metadata": {},
     "output_type": "execute_result"
    }
   ],
   "source": [
    "a = [\"a\", \"b\", \"c\", \"d\"]\n",
    "del a[0:3]\n",
    "a\n"
   ]
  },
  {
   "cell_type": "code",
   "execution_count": 10,
   "metadata": {},
   "outputs": [
    {
     "data": {
      "text/plain": [
       "[]"
      ]
     },
     "execution_count": 10,
     "metadata": {},
     "output_type": "execute_result"
    }
   ],
   "source": [
    "a = [\"a\", \"b\", \"c\", \"d\"]\n",
    "a.clear()\n",
    "a"
   ]
  },
  {
   "cell_type": "code",
   "execution_count": 18,
   "metadata": {},
   "outputs": [
    {
     "data": {
      "text/plain": [
       "['e', 'f', 'g', 'h']"
      ]
     },
     "execution_count": 18,
     "metadata": {},
     "output_type": "execute_result"
    }
   ],
   "source": [
    "a = [\"a\", \"b\", \"c\", \"d\"]\n",
    "b = [\"e\",\"f\", \"g\", \"h\"]\n",
    "del a\n",
    "b \n"
   ]
  },
  {
   "cell_type": "code",
   "execution_count": 20,
   "metadata": {},
   "outputs": [
    {
     "name": "stdout",
     "output_type": "stream",
     "text": [
      "Enter the first index : 0\n",
      "Enter the last index: 2\n",
      "['d']\n"
     ]
    }
   ],
   "source": [
    "x = int(input(\"Enter the first index : \"))\n",
    "y = int (input(\"Enter the last index: \"))\n",
    "a =  [\"a\", \"b\", \"c\", \"d\"]\n",
    "del a[x:y+1]\n",
    "print(a)"
   ]
  },
  {
   "cell_type": "code",
   "execution_count": 22,
   "metadata": {},
   "outputs": [
    {
     "data": {
      "text/plain": [
       "['a', 'b', 'c', 'd', 'e']"
      ]
     },
     "execution_count": 22,
     "metadata": {},
     "output_type": "execute_result"
    }
   ],
   "source": [
    "a = [\"a\", \"b\", \"c\", \"d\"]\n",
    "a.insert(7,\"e\")\n",
    "a"
   ]
  },
  {
   "cell_type": "code",
   "execution_count": null,
   "metadata": {},
   "outputs": [],
   "source": [
    "x = input(\"Enter the value you want to add before  : \")\n",
    "y = input(\"Enter the value to replace with: \")\n",
    "a =  [\"a\", \"b\", \"c\", \"d\"]\n",
    "z = a.index(x)\n",
    "a.insert(z,y)\n",
    "a"
   ]
  },
  {
   "cell_type": "code",
   "execution_count": 5,
   "metadata": {},
   "outputs": [
    {
     "data": {
      "text/plain": [
       "['ram', 45, 'ktm']"
      ]
     },
     "execution_count": 5,
     "metadata": {},
     "output_type": "execute_result"
    }
   ],
   "source": [
    "a = [[],[],[]]\n",
    "a = [['ram',45,\"ktm\"],['bob', 23,'bkt']]\n",
    "a[0]\n"
   ]
  },
  {
   "cell_type": "code",
   "execution_count": null,
   "metadata": {},
   "outputs": [],
   "source": [
    "n = int(input(\"Enter any value: \"))\n",
    "x= []\n",
    "for i in range(n):\n",
    "    name = input(\"Enter your name: \")\n",
    "    age = int(input(\"Enter your age: \"))\n",
    "    address = input(\"Enter your address: \")\n",
    "    y = [name,age,address]\n",
    "    x.append(y)\n",
    "    print(f\"Hello! Mr.{name}. Your age is {age}. You live in {address}\")\n",
    "    "
   ]
  },
  {
   "cell_type": "code",
   "execution_count": null,
   "metadata": {},
   "outputs": [
    {
     "name": "stdout",
     "output_type": "stream",
     "text": [
      "Enter your roll number:2\n",
      "Enter nepali no: 12\n",
      "Enter math no: 12\n",
      "Enter sci no: 13\n",
      "Enter acc no: 14\n",
      "Enter nepali no: 15\n",
      "Enter math no: 16\n",
      "Enter sci no: 17\n",
      "Enter acc no: 18\n",
      "[['12', '12', '13', '14'], ['15', '16', '17', '18']]\n"
     ]
    }
   ],
   "source": [
    "n = int(input(\"Enter your roll number:\" ))\n",
    "x =[]\n",
    "for i in range(n):\n",
    "    nepali = input(\"Enter nepali no: \")\n",
    "    math = input(\"Enter math no: \")\n",
    "    sci = input(\"Enter sci no: \")\n",
    "    acc = input(\"Enter acc no: \")\n",
    "    y = [nepali, math, sci, acc]\n",
    "    x.append(y)\n",
    "print(x)\n",
    "roll = int(input(\"Enter roll of student = \"))\n",
    "print(x[roll])\n"
   ]
  },
  {
   "cell_type": "code",
   "execution_count": 7,
   "metadata": {},
   "outputs": [
    {
     "name": "stdout",
     "output_type": "stream",
     "text": [
      "['ball', 'cat']\n",
      "apple\n"
     ]
    }
   ],
   "source": [
    "a = ['apple', 'ball', 'cat']\n",
    "b = a.pop(0)\n",
    "print(a)\n",
    "print(b)\n"
   ]
  },
  {
   "cell_type": "markdown",
   "metadata": {},
   "source": [
    "r = int(input(\"Enter the value: \"))\n",
    "c = int(input(\"Enter the value: \"))\n",
    "mat = []\n",
    "for i in range(r):\n",
    "    mat.append([])\n",
    "    for j in range(c):\n",
    "        x = int(input(\"Enter the value: \"))\n",
    "        mat[i].append(x)\n",
    "        \n",
    "print(mat)"
   ]
  },
  {
   "cell_type": "markdown",
   "metadata": {},
   "source": []
  },
  {
   "cell_type": "code",
   "execution_count": 2,
   "metadata": {},
   "outputs": [
    {
     "name": "stdout",
     "output_type": "stream",
     "text": [
      "Enter the number of student you want to print result: 1\n",
      "Enter the name of the student: Ram\n",
      "Enter the roll number of the student: 12\n",
      "Enter the grade: 09\n",
      "Enter the aquired score of Nepali: 100\n",
      "Enter the aquired score of English: 20\n",
      "Enter the aquired score of Math: 34\n",
      "Enter the aquired score of Science: 60\n",
      "Enter the aquired score of Account: 45\n",
      "Congratualtion!!! You have passed in Nepali subject.\n",
      "Sorry. You have failed in English. Please study seriously.\n",
      "Sorry. You have failed in Math. Please study seriously.\n",
      "Congratualtion!!! You have passed in Science subject.\n",
      "Congratualtion!!! You have passed in Account subject.\n",
      "Your name is RAM. Your roll.num is 12. You study in class 9. \n",
      "Your name is RAM. Your roll.num is 12. You study in class 9. \n"
     ]
    }
   ],
   "source": [
    "# Write a program to find the number of student pass or fail in subjects\n",
    "info = int(input(\"Enter the number of student you want to print result: \"))\n",
    "while info >=0:\n",
    "    for i in range(info):\n",
    "        name = input(\"Enter the name of the student: \")\n",
    "        roll = int(input(\"Enter the roll number of the student: \"))\n",
    "        clas = int(input(\"Enter the grade: \"))\n",
    "        mat = []\n",
    "        nep = int(input(\"Enter the aquired score of Nepali: \"))\n",
    "        eng = int(input(\"Enter the aquired score of English: \"))\n",
    "        math = int(input(\"Enter the aquired score of Math: \"))\n",
    "        sci = int(input(\"Enter the aquired score of Science: \"))\n",
    "        acc = int(input(\"Enter the aquired score of Account: \"))\n",
    "        score = [\"nep\",\"eng\", \"math\", \"sci\", \"acc\"]\n",
    "        if nep >= 35:\n",
    "            print(\"Congratualtion!!! You have passed in Nepali subject.\")\n",
    "        else:\n",
    "            print(\"Sorry. You have failed in Nepali. Please study seriously.\")\n",
    "        if eng >= 35:\n",
    "            print(\"Congratualtion!!! You have passed in English subject.\")\n",
    "        else:\n",
    "            print(\"Sorry. You have failed in English. Please study seriously.\")\n",
    "        if math >= 35:\n",
    "            print(\"Congratualtion!!! You have passed in Math subject.\")\n",
    "        else:\n",
    "            print(\"Sorry. You have failed in Math. Please study seriously.\")\n",
    "        if sci >= 35:\n",
    "            print(\"Congratualtion!!! You have passed in Science subject.\")\n",
    "        else:\n",
    "            print(\"Sorry. You have failed in Science. Please study seriously.\")\n",
    "        if acc >= 35:\n",
    "            print(\"Congratualtion!!! You have passed in Account subject.\")\n",
    "        else:\n",
    "            print(\"Sorry. You have failed in Account. Please study seriously.\")\n",
    "    print(f\"Your name is {name.upper()}. Your roll.num is {roll}. You study in class {clas}. \")\n",
    "    info = info - 1\n",
    "    \n",
    "#    print(\"The sum of all the number is: \", sum(x))\n",
    "#     if sum >= 100:\n",
    "#         print(\"Congratulation!!! You have scored Distinction.\")\n",
    "#     elif sum>=70:\n",
    "#         print(\"You have scored First Division\")\n",
    "#     elif sum>=50:\n",
    "#         print(\"You have scored Second Division\")\n",
    "#     elif sum <= 30:\n",
    "#         print(\"You have scored Third Division .\")\n",
    "#     else:\n",
    "#         print(\"Sorry. You have failed.\")"
   ]
  },
  {
   "cell_type": "code",
   "execution_count": null,
   "metadata": {},
   "outputs": [],
   "source": []
  }
 ],
 "metadata": {
  "kernelspec": {
   "display_name": "Python 3",
   "language": "python",
   "name": "python3"
  },
  "language_info": {
   "codemirror_mode": {
    "name": "ipython",
    "version": 3
   },
   "file_extension": ".py",
   "mimetype": "text/x-python",
   "name": "python",
   "nbconvert_exporter": "python",
   "pygments_lexer": "ipython3",
   "version": "3.7.4"
  }
 },
 "nbformat": 4,
 "nbformat_minor": 2
}

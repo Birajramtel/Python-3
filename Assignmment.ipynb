{
 "cells": [
  {
   "cell_type": "code",
   "execution_count": 6,
   "metadata": {},
   "outputs": [
    {
     "name": "stdout",
     "output_type": "stream",
     "text": [
      "Enter the number to check whether the number is prime or not: 9\n",
      "9 is a conjugate number\n"
     ]
    }
   ],
   "source": [
    "# Write a program to find the prime and conjugate no\n",
    "def prime(n):\n",
    "    n = int(input(\"Enter the number to check whether the number is prime or not: \"))\n",
    "    if(n%2 == 0):\n",
    "        if n==2:\n",
    "            print(n,\"is a prime number\")\n",
    "        else:\n",
    "             print(n,\"is composite number\")\n",
    "\n",
    "    elif(n%3 ==0):\n",
    "        if n==3:\n",
    "            print(n,\"is a prime number\")\n",
    "        else:\n",
    "            print(n,\"is a composite number\")\n",
    "\n",
    "    elif(n%5 ==0):\n",
    "        if n == 5:\n",
    "            print(n, \"is a prime number\")\n",
    "        else:\n",
    "            print(n,\"is a composite number\")\n",
    "\n",
    "    elif n%7 ==0:\n",
    "        if n==7:\n",
    "            print(n, \"is a prime number\")\n",
    "        else:\n",
    "            print(n, \"is a composite number\")\n",
    "    else:\n",
    "        print(n,\"is a prime number\")\n",
    "prime(n)"
   ]
  },
  {
   "cell_type": "code",
   "execution_count": 1,
   "metadata": {},
   "outputs": [
    {
     "name": "stdout",
     "output_type": "stream",
     "text": [
      "Please Enter any number: 4\n",
      "[0, 1, 1]\n",
      "[2, 3, 5]\n",
      "[8, 13, 21]\n",
      "[34, 55, 89]\n"
     ]
    }
   ],
   "source": [
    "# Write a program to find Fibonacci sequence.\n",
    "n = int(input(\"Please Enter any number: \"))\n",
    "a = 0\n",
    "b = 1\n",
    "c = a + b\n",
    "while n >= 1:\n",
    "    print([a, b, c])\n",
    "    a = b + c\n",
    "    b = a + c\n",
    "    n = n - 1\n",
    "    c = a + b\n",
    "    "
   ]
  },
  {
   "cell_type": "code",
   "execution_count": 7,
   "metadata": {},
   "outputs": [
    {
     "name": "stdout",
     "output_type": "stream",
     "text": [
      "Enter the number: 9\n"
     ]
    },
    {
     "data": {
      "text/plain": [
       "362880"
      ]
     },
     "execution_count": 7,
     "metadata": {},
     "output_type": "execute_result"
    }
   ],
   "source": [
    "# Write a program to find factorial\n",
    "import math as m\n",
    "n =  int(input(\"Enter the number: \"))\n",
    "m.factorial(n)"
   ]
  },
  {
   "cell_type": "code",
   "execution_count": null,
   "metadata": {},
   "outputs": [
    {
     "name": "stdout",
     "output_type": "stream",
     "text": [
      "Enter the number: 3\n"
     ]
    }
   ],
   "source": [
    "# Write a program to find factorial\n",
    "n =  int(input(\"Enter the number: \"))\n",
    "while n>=1:\n",
    "    a = n - 1\n",
    "    print(n * a)\n",
    "    n = (n - 1) * a\n",
    "    "
   ]
  },
  {
   "cell_type": "code",
   "execution_count": 11,
   "metadata": {},
   "outputs": [
    {
     "name": "stdout",
     "output_type": "stream",
     "text": [
      "Enter the number : 6\n",
      "******\n",
      "*****\n"
     ]
    }
   ],
   "source": [
    "# Write a program using while loop as if/else\n",
    "n = int(input(\"Enter the number : \"))\n",
    "def star(a):\n",
    "    if a >=0 :\n",
    "        print(\"*\"*a)\n",
    "        a = n-1\n",
    "        print(\"*\"*a)\n",
    "    else:\n",
    "        pass\n",
    "star(n)"
   ]
  },
  {
   "cell_type": "code",
   "execution_count": null,
   "metadata": {},
   "outputs": [],
   "source": [
    "# Write a program to find factorial\n",
    "def factorial():\n",
    "    n =  int(input(\"Enter the number: \"))\n",
    "    a = n - 1\n",
    "    while n!=0:\n",
    "        print(n * a)\n",
    "factorial()"
   ]
  },
  {
   "cell_type": "code",
   "execution_count": 12,
   "metadata": {},
   "outputs": [
    {
     "name": "stdout",
     "output_type": "stream",
     "text": [
      "Enter the number: 3\n",
      "6\n",
      "4\n",
      "2\n",
      "0\n"
     ]
    }
   ],
   "source": [
    "n = int(input(\"Enter the number: \"))\n",
    "count = 0\n",
    "a = n - 1\n",
    "while (n >=count):     \n",
    "\tprint(n*a)\n",
    "\tn = n - 1\n",
    "    \n"
   ]
  },
  {
   "cell_type": "code",
   "execution_count": 3,
   "metadata": {},
   "outputs": [
    {
     "name": "stdout",
     "output_type": "stream",
     "text": [
      "Please Enter any number: 4\n",
      "[0, 1, 1]\n",
      "[3, 1, 1]\n",
      "[3, 1, 1]\n",
      "[3, 1, 1]\n"
     ]
    }
   ],
   "source": [
    "# Write a program to find Fibonacci sequence.\n",
    "n = int(input(\"Please Enter any number: \"))\n",
    "a = 0\n",
    "b = 1\n",
    "c = a + b\n",
    "while n >= 1:\n",
    "    print([a, b, c])\n",
    "    a = b + c\n",
    "    b = a + c\n",
    "    n = n - 1\n",
    "    a = b\n",
    "    b = c\n",
    "    "
   ]
  },
  {
   "cell_type": "code",
   "execution_count": 5,
   "metadata": {},
   "outputs": [],
   "source": [
    "def cal():\n",
    "    n = int(input(\"Enter any number: \"))\n",
    "    if n < 3:\n",
    "        print(\"Enter the number greater than 2\")\n",
    "        cal()\n",
    "    for x in range(2,n):\n",
    "        if n % x == 0:\n",
    "            print(\"The number is composite\")\n",
    "            break\n",
    "    else:\n",
    "        print(\"The number is prime number\")\n",
    "cal()"
   ]
  },
  {
   "cell_type": "code",
   "execution_count": 9,
   "metadata": {},
   "outputs": [
    {
     "name": "stdout",
     "output_type": "stream",
     "text": [
      "Please Enter any number: 4\n",
      "0 1 1,2 3 5,8 13 21,34 55 89,"
     ]
    }
   ],
   "source": [
    "# Write a program to find Fibonacci sequence.\n",
    "n = int(input(\"Please Enter any number: \"))\n",
    "a = 0\n",
    "b = 1\n",
    "c = a + b\n",
    "while n >= 1:\n",
    "    print(a, b, c, end=',')\n",
    "    a = b + c\n",
    "    b = a + c\n",
    "    n = n - 1\n",
    "    c = a + b\n",
    "    "
   ]
  },
  {
   "cell_type": "code",
   "execution_count": null,
   "metadata": {},
   "outputs": [],
   "source": []
  }
 ],
 "metadata": {
  "kernelspec": {
   "display_name": "Python 3",
   "language": "python",
   "name": "python3"
  },
  "language_info": {
   "codemirror_mode": {
    "name": "ipython",
    "version": 3
   },
   "file_extension": ".py",
   "mimetype": "text/x-python",
   "name": "python",
   "nbconvert_exporter": "python",
   "pygments_lexer": "ipython3",
   "version": "3.7.4"
  }
 },
 "nbformat": 4,
 "nbformat_minor": 2
}

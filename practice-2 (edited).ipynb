{
 "cells": [
  {
   "cell_type": "code",
   "execution_count": 1,
   "metadata": {},
   "outputs": [
    {
     "name": "stdout",
     "output_type": "stream",
     "text": [
      "Ram\n",
      "22\n",
      "Patan\n"
     ]
    }
   ],
   "source": [
    "class Name:\n",
    "    def __init__(self,name):\n",
    "        self.name = name\n",
    "        print(self.name) #yesma ma name lai local banauna self.name ma assign gare pachi print pani self.name lai garnu parcha\n",
    "        #same as method ma hamile print gare jastai garnu parcha.baki sabai thik cha\n",
    "class Age:\n",
    "    \n",
    "    def age(self,age):\n",
    "        print(age)\n",
    "        \n",
    "class Address:\n",
    "    def __init__(self,address):\n",
    "        self.address = address\n",
    "    \n",
    "    def add(self):\n",
    "        print(self.address)\n",
    "    \n",
    "x = Name(\"Ram\") #Value passed to the class\n",
    "y = Age()       #Value not passed as i havent called default constructor\n",
    "y.age(22)       #Value passed to the method/function\n",
    "z = Address(\"Patan\") #Value passed to class but want to access in method/function\n",
    "z.add()\n",
    "#How to do that???"
   ]
  },
  {
   "cell_type": "code",
   "execution_count": null,
   "metadata": {},
   "outputs": [],
   "source": []
  }
 ],
 "metadata": {
  "kernelspec": {
   "display_name": "Python 3",
   "language": "python",
   "name": "python3"
  },
  "language_info": {
   "codemirror_mode": {
    "name": "ipython",
    "version": 3
   },
   "file_extension": ".py",
   "mimetype": "text/x-python",
   "name": "python",
   "nbconvert_exporter": "python",
   "pygments_lexer": "ipython3",
   "version": "3.7.4"
  }
 },
 "nbformat": 4,
 "nbformat_minor": 2
}

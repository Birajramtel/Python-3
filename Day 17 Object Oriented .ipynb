{
 "cells": [
  {
   "cell_type": "code",
   "execution_count": 1,
   "metadata": {},
   "outputs": [
    {
     "ename": "SyntaxError",
     "evalue": "invalid syntax (<ipython-input-1-9ffc4ccef7f7>, line 1)",
     "output_type": "error",
     "traceback": [
      "\u001b[1;36m  File \u001b[1;32m\"<ipython-input-1-9ffc4ccef7f7>\"\u001b[1;36m, line \u001b[1;32m1\u001b[0m\n\u001b[1;33m    class <classname>:\u001b[0m\n\u001b[1;37m          ^\u001b[0m\n\u001b[1;31mSyntaxError\u001b[0m\u001b[1;31m:\u001b[0m invalid syntax\n"
     ]
    }
   ],
   "source": [
    "class <classname>:\n",
    "    <methods>\n",
    "    <methods>\n",
    "x = <classname> \n",
    "x.<methods>"
   ]
  },
  {
   "cell_type": "code",
   "execution_count": 2,
   "metadata": {},
   "outputs": [
    {
     "name": "stdout",
     "output_type": "stream",
     "text": [
      "This is an information method. \n"
     ]
    }
   ],
   "source": [
    "class Info:\n",
    "    def information(self):\n",
    "        print(\"This is an information method. \")\n",
    "x = Info()\n",
    "x.information()"
   ]
  },
  {
   "cell_type": "code",
   "execution_count": 9,
   "metadata": {},
   "outputs": [
    {
     "name": "stdout",
     "output_type": "stream",
     "text": [
      "The area is =  24\n",
      "The volumn is =  6\n",
      "<__main__.volumn object at 0x0000020FAC9C0608>\n"
     ]
    }
   ],
   "source": [
    "class Area():\n",
    "    def area(self,l,b):\n",
    "        print(\"The area is = \",l*b)\n",
    "class volumn():\n",
    "    def volumn(self,l,b,h):\n",
    "        print(\"The volumn is = \",l*b*h)\n",
    "x = Area()\n",
    "x.area(4,6)\n",
    "x = volumn()\n",
    "x.volumn(1,2,3)\n",
    "print(x)"
   ]
  },
  {
   "cell_type": "code",
   "execution_count": 3,
   "metadata": {},
   "outputs": [
    {
     "name": "stdout",
     "output_type": "stream",
     "text": [
      "Enter any value: red\n",
      "x\n",
      "Hello!! I am circle. red\n",
      "Enter color name:a\n"
     ]
    }
   ],
   "source": [
    "class Color:\n",
    "    def __init__(self,a):\n",
    "        self.a = a\n",
    "    def red(self):\n",
    "        print(\"x\")\n",
    "    def green(self):\n",
    "        print(\"Hello!! I am green. \")\n",
    "class Object(Color):\n",
    "    def round(self):\n",
    "        print(\"Hello I am round object.\")\n",
    "    def circle(self):\n",
    "        print(\"Hello!! I am circle.\",self.a)\n",
    "v = input(\"Enter any value: \")\n",
    "x = Color(v)\n",
    "x.red()\n",
    "y = Object(v)\n",
    "y.circle()\n",
    "a =input(\"Enter color name:\")"
   ]
  },
  {
   "cell_type": "code",
   "execution_count": 20,
   "metadata": {},
   "outputs": [
    {
     "name": "stdout",
     "output_type": "stream",
     "text": [
      "The area is:  20\n",
      "4\n",
      "5\n"
     ]
    }
   ],
   "source": [
    "class Area:\n",
    "    def __init__(self,x,y):\n",
    "        self.a =x\n",
    "        self.b = y\n",
    "    def area(self):\n",
    "        print(\"The area is: \",self.a*self.b)\n",
    "x = Area(4,5)\n",
    "x.area()\n",
    "print(x.a)\n",
    "print(x.b)"
   ]
  },
  {
   "cell_type": "code",
   "execution_count": null,
   "metadata": {},
   "outputs": [],
   "source": []
  }
 ],
 "metadata": {
  "kernelspec": {
   "display_name": "Python 3",
   "language": "python",
   "name": "python3"
  },
  "language_info": {
   "codemirror_mode": {
    "name": "ipython",
    "version": 3
   },
   "file_extension": ".py",
   "mimetype": "text/x-python",
   "name": "python",
   "nbconvert_exporter": "python",
   "pygments_lexer": "ipython3",
   "version": "3.7.4"
  }
 },
 "nbformat": 4,
 "nbformat_minor": 2
}

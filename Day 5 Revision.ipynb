{
 "cells": [
  {
   "cell_type": "code",
   "execution_count": 15,
   "metadata": {},
   "outputs": [
    {
     "name": "stdout",
     "output_type": "stream",
     "text": [
      "Enter the name: ram\n",
      "hello  ram 10\n"
     ]
    }
   ],
   "source": [
    "name = input(\"Enter the name: \")\n",
    "\n",
    "def hello(p,b):\n",
    "    print(\"hello \",p , b)\n",
    "hello(name,10)\n"
   ]
  },
  {
   "cell_type": "code",
   "execution_count": 6,
   "metadata": {},
   "outputs": [
    {
     "name": "stdout",
     "output_type": "stream",
     "text": [
      "10\n",
      "11\n",
      "3\n",
      "10\n"
     ]
    }
   ],
   "source": [
    "a = 10\n",
    "def ab(c):\n",
    "    b =11\n",
    "    print(a)\n",
    "    print(b)\n",
    "    print(c)\n",
    "    \n",
    "ab(3)\n",
    "print(a)"
   ]
  },
  {
   "cell_type": "code",
   "execution_count": 13,
   "metadata": {},
   "outputs": [
    {
     "name": "stdout",
     "output_type": "stream",
     "text": [
      "Enter the number3\n",
      "Enter the number2\n",
      "3\n",
      "2\n"
     ]
    },
    {
     "data": {
      "text/plain": [
       "5"
      ]
     },
     "execution_count": 13,
     "metadata": {},
     "output_type": "execute_result"
    }
   ],
   "source": [
    "def abss():\n",
    "    x = int(input(\"Enter the number\"))\n",
    "    return x\n",
    "\n",
    "def asdf():\n",
    "    y = int(input(\"Enter the number\"))\n",
    "    return y\n",
    "i = abss()\n",
    "j = asdf()\n",
    "print(i)\n",
    "print(j)\n",
    "j+i"
   ]
  },
  {
   "cell_type": "code",
   "execution_count": 65,
   "metadata": {},
   "outputs": [
    {
     "name": "stdout",
     "output_type": "stream",
     "text": [
      "     \n",
      "     *\n",
      "    * *\n",
      "   * * *\n",
      "  * * * *\n",
      " * * * * *\n",
      " * * * * *\n",
      "  * * * *\n",
      "   * * *\n",
      "    * *\n",
      "     *\n",
      "     \n"
     ]
    }
   ],
   "source": [
    "a = 5\n",
    "b = 0\n",
    "while b<=5:\n",
    "    print(\" \"*a + \" *\"*b)\n",
    "    a = a-1\n",
    "    b = b+1\n",
    "c= 0\n",
    "d = 5\n",
    "while d >= 0:\n",
    "    print (\" \"*c +\" *\"*d)\n",
    "    d = d -1\n",
    "    c = c+1"
   ]
  },
  {
   "cell_type": "code",
   "execution_count": null,
   "metadata": {},
   "outputs": [],
   "source": []
  },
  {
   "cell_type": "code",
   "execution_count": null,
   "metadata": {},
   "outputs": [],
   "source": []
  }
 ],
 "metadata": {
  "kernelspec": {
   "display_name": "Python 3",
   "language": "python",
   "name": "python3"
  },
  "language_info": {
   "codemirror_mode": {
    "name": "ipython",
    "version": 3
   },
   "file_extension": ".py",
   "mimetype": "text/x-python",
   "name": "python",
   "nbconvert_exporter": "python",
   "pygments_lexer": "ipython3",
   "version": "3.7.4"
  }
 },
 "nbformat": 4,
 "nbformat_minor": 2
}

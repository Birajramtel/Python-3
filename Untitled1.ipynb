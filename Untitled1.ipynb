{
 "cells": [
  {
   "cell_type": "code",
   "execution_count": 4,
   "metadata": {},
   "outputs": [
    {
     "name": "stdout",
     "output_type": "stream",
     "text": [
      "Ram\n",
      "The address of the student is: Patan\n",
      "Patan\n",
      "bob\n",
      "The name of the student is bob.The age of the student is 56.The address of the student is ktm\n"
     ]
    }
   ],
   "source": [
    "class Name:\n",
    "    def __init__(self,name):\n",
    "        self.name = name\n",
    "        print(name)\n",
    "        \n",
    "class Age:\n",
    "    def age(self,h):\n",
    "        return age\n",
    "        \n",
    "class Address:\n",
    "    def __init__(self,address):\n",
    "        self.address = address\n",
    "    \n",
    "    def add(self):\n",
    "        print(\"The address of the student is:\", self.address)\n",
    "\n",
    "class All(Name,Age,Address):\n",
    "    def __init__(self,name,address):\n",
    "        Name.__init__(self,name)\n",
    "#         Age.__init__(self,age)\n",
    "        Address.__init__(self,address)\n",
    "        # Age.age(self.age)\n",
    "        \n",
    "        \n",
    "    def all(self):\n",
    "        print(f\"The name of the student is {self.name}.The age of the student is { super().age(h)}.The address of the student is {self.address}\")\n",
    "#         a = super().age(self,age)\n",
    "x = Name(\"Ram\")\n",
    "y = Age()\n",
    "y =45   # can we call in All class??          \n",
    "z = Address(\"Patan\") \n",
    "z.add()\n",
    "print(z.address)\n",
    "w = All(\"bob\",\"ktm\")\n",
    "# w = All()\n",
    "w.all()\n"
   ]
  },
  {
   "cell_type": "code",
   "execution_count": null,
   "metadata": {},
   "outputs": [],
   "source": []
  }
 ],
 "metadata": {
  "kernelspec": {
   "display_name": "Python 3",
   "language": "python",
   "name": "python3"
  },
  "language_info": {
   "codemirror_mode": {
    "name": "ipython",
    "version": 3
   },
   "file_extension": ".py",
   "mimetype": "text/x-python",
   "name": "python",
   "nbconvert_exporter": "python",
   "pygments_lexer": "ipython3",
   "version": "3.7.4"
  }
 },
 "nbformat": 4,
 "nbformat_minor": 2
}

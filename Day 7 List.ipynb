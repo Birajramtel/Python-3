{
 "cells": [
  {
   "cell_type": "code",
   "execution_count": 4,
   "metadata": {},
   "outputs": [
    {
     "name": "stdout",
     "output_type": "stream",
     "text": [
      "Enter your name: ram\n",
      "Enter your age: 2\n",
      "Enter your address: \n",
      "Your name is RAM.Your age is 2. Your address is .\n"
     ]
    }
   ],
   "source": [
    "a = input(\"Enter your name: \")\n",
    "c = int(input(\"Enter your age: \"))\n",
    "b = input(\"Enter your address: \")\n",
    "print (f\"Your name is {a.upper()}.Your age is {c}. Your address is {b.lower()}.\")"
   ]
  },
  {
   "cell_type": "code",
   "execution_count": 5,
   "metadata": {},
   "outputs": [],
   "source": [
    "#list"
   ]
  },
  {
   "cell_type": "code",
   "execution_count": 8,
   "metadata": {},
   "outputs": [
    {
     "data": {
      "text/plain": [
       "['h', 'e', 'l', 'l', 'o', ' ', 'w', 'o', 'r', 'l', 'd']"
      ]
     },
     "execution_count": 8,
     "metadata": {},
     "output_type": "execute_result"
    }
   ],
   "source": [
    "a = list(\"hello world\")\n",
    "a\n"
   ]
  },
  {
   "cell_type": "code",
   "execution_count": 2,
   "metadata": {},
   "outputs": [
    {
     "name": "stdout",
     "output_type": "stream",
     "text": [
      "['apple', 'ball', 'cat']\n",
      "3\n",
      "cat\n",
      "ball\n",
      "apple\n",
      "['apple', 'ball', 'cat', 'apple', 'ball', 'cat']\n",
      "['apple', 'ball', 'cat', 'ringo', 'ichigo', 'neco']\n"
     ]
    }
   ],
   "source": [
    "a = [\"apple\", \"ball\", \"cat\"]\n",
    "b = [\"ringo\", \"ichigo\", \"neco\"]\n",
    "print(a)\n",
    "print(len(a))\n",
    "print(a[2])\n",
    "print(a[1])\n",
    "print(a[0])\n",
    "print(a*2)\n",
    "print(a+b)"
   ]
  },
  {
   "cell_type": "code",
   "execution_count": 6,
   "metadata": {},
   "outputs": [
    {
     "name": "stdout",
     "output_type": "stream",
     "text": [
      "['apple', 'ball', 'dog']\n"
     ]
    }
   ],
   "source": [
    "a = [\"apple\", \"ball\", \"cat\"]\n",
    "a[2]=\"dog\"\n",
    "print(a)"
   ]
  },
  {
   "cell_type": "code",
   "execution_count": 4,
   "metadata": {},
   "outputs": [
    {
     "name": "stdout",
     "output_type": "stream",
     "text": [
      "Enter your name: ram\n",
      "Enter your age:22\n",
      "Enter your address: ktm\n",
      "Hello my name is RAM. I am 22. I am from KTM\n"
     ]
    }
   ],
   "source": [
    "name = input(\"Enter your name: \")\n",
    "age = input(\"Enter your age:\")\n",
    "address = input(\"Enter your address: \")\n",
    "x = [name, age, address]\n",
    "def info(x):\n",
    "    print(f\"Hello my name is {x[0].upper()}. I am {x[1]}. I am from {x[2].upper()}\")\n",
    "info(x)"
   ]
  },
  {
   "cell_type": "code",
   "execution_count": 3,
   "metadata": {},
   "outputs": [
    {
     "name": "stdout",
     "output_type": "stream",
     "text": [
      "Enter how many value from user: 3\n",
      "Enter your name =321\n",
      "Enter your name =21\n",
      "Enter your name =1\n",
      "THe maximum number is:  321\n",
      "The minimum number is:  1\n",
      "The sum of all the number is:  343\n",
      "The average number is:  114.33333333333333\n"
     ]
    }
   ],
   "source": [
    "n = int(input(\"Enter how many value from user: \"))\n",
    "x = []\n",
    "for i in range(n):\n",
    "    name = int(input(\"Enter your name =\"))\n",
    "    x = x+[name]\n",
    "print(\"THe maximum number is: \", max(x))\n",
    "print(\"The minimum number is: \", min(x))\n",
    "print(\"The sum of all the number is: \", sum(x))\n",
    "print(\"The average number is: \", sum(x)/n)"
   ]
  },
  {
   "cell_type": "code",
   "execution_count": 11,
   "metadata": {},
   "outputs": [
    {
     "name": "stdout",
     "output_type": "stream",
     "text": [
      "Enter how many value from user: 3\n",
      "Enter your name =e\n",
      "Enter your name =c\n",
      "Enter your name =a\n",
      "['e', 'c', 'a']\n",
      "['e', 'c', 'a']\n"
     ]
    }
   ],
   "source": [
    "n = int(input(\"Enter how many value from user: \"))\n",
    "x = []\n",
    "for i in range(n):\n",
    "    name = input(\"Enter your name =\")\n",
    "    x = x + [name]\n",
    "print(x)\n",
    "x.sort(reverse=True)\n",
    "print(x)"
   ]
  },
  {
   "cell_type": "code",
   "execution_count": 18,
   "metadata": {},
   "outputs": [
    {
     "name": "stdout",
     "output_type": "stream",
     "text": [
      "yes 1\n"
     ]
    }
   ],
   "source": [
    "a = ['1cat', 'Apple', 'Zebra', 'Apple']\n",
    "b = '1cat'\n",
    "if b in a:\n",
    "    print(\"yes\", a.count(b))\n",
    "a.remove(b)"
   ]
  },
  {
   "cell_type": "code",
   "execution_count": 21,
   "metadata": {},
   "outputs": [
    {
     "name": "stdout",
     "output_type": "stream",
     "text": [
      "Which value to remove: Zebra\n",
      "Replace with: cow\n",
      "['1cat', 'Apple', 'cow', 'Apple']\n"
     ]
    }
   ],
   "source": [
    "a = ['1cat', 'Apple', 'Zebra', 'Apple']\n",
    "b = input(\"Which value to remove: \")\n",
    "c = input(\"Replace with: \")\n",
    "n = a.count(b)\n",
    "for i in range(n):\n",
    "    index = a.index(b)\n",
    "    a[index] = c\n",
    "print(a)"
   ]
  },
  {
   "cell_type": "code",
   "execution_count": 1,
   "metadata": {},
   "outputs": [
    {
     "name": "stdout",
     "output_type": "stream",
     "text": [
      "Enter your name = ram\n",
      "Enter your age = 22\n",
      "Enter your address = ktm\n",
      "Hello my name is ram.I am 22. I am from ktm\n"
     ]
    }
   ],
   "source": [
    "name = input(\"Enter your name = \")\n",
    "age = int(input(\"Enter your age = \"))\n",
    "add = input(\"Enter your address = \")\n",
    "x = [name,age,add]\n",
    "def info(x):\n",
    "    print(f\"Hello my name is {x[0]}.I am {x[1]}. I am from {x[2]}\")\n",
    "info(x)"
   ]
  },
  {
   "cell_type": "code",
   "execution_count": 3,
   "metadata": {},
   "outputs": [
    {
     "name": "stdout",
     "output_type": "stream",
     "text": [
      "Enter the value: 4\n",
      "Enter your name: ram\n",
      "Enter your name: shyam\n",
      "Enter your name: hari\n",
      "Enter your name: bob\n",
      "['ram', 'shyam', 'hari', 'bob']\n"
     ]
    }
   ],
   "source": [
    "n = int(input(\"Enter the value: \"))\n",
    "x = []\n",
    "for i in range(n):\n",
    "    name = input(\"Enter your name: \")\n",
    "    x = x + [name]\n",
    "print(x)"
   ]
  },
  {
   "cell_type": "code",
   "execution_count": 1,
   "metadata": {},
   "outputs": [
    {
     "name": "stdout",
     "output_type": "stream",
     "text": [
      "Enter the dublicate input to delete: apple\n",
      "['ball', 'cat', 'fight', 'Eachother']\n"
     ]
    }
   ],
   "source": [
    "a = [\"apple\", \"ball\",\"cat\", \"fight\", \"Eachother\"]\n",
    "b = input(\"Enter the dublicate input to delete: \")\n",
    "n = a.count(b)\n",
    "for i in range (n):\n",
    "    a.remove(b)\n",
    "print(a)"
   ]
  },
  {
   "cell_type": "code",
   "execution_count": null,
   "metadata": {},
   "outputs": [],
   "source": []
  },
  {
   "cell_type": "code",
   "execution_count": null,
   "metadata": {},
   "outputs": [],
   "source": []
  }
 ],
 "metadata": {
  "kernelspec": {
   "display_name": "Python 3",
   "language": "python",
   "name": "python3"
  },
  "language_info": {
   "codemirror_mode": {
    "name": "ipython",
    "version": 3
   },
   "file_extension": ".py",
   "mimetype": "text/x-python",
   "name": "python",
   "nbconvert_exporter": "python",
   "pygments_lexer": "ipython3",
   "version": "3.7.4"
  }
 },
 "nbformat": 4,
 "nbformat_minor": 2
}

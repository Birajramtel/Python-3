{
 "cells": [
  {
   "cell_type": "code",
   "execution_count": null,
   "metadata": {},
   "outputs": [
    {
     "name": "stdout",
     "output_type": "stream",
     "text": [
      "Enter any number: 2\n"
     ]
    }
   ],
   "source": [
    "def age():\n",
    "    try:\n",
    "        a = int(input(\"Enter any number: \"))\n",
    "    except:\n",
    "        print(\"Please enter integer value\")\n",
    "        age()\n",
    "age()"
   ]
  },
  {
   "cell_type": "code",
   "execution_count": 4,
   "metadata": {},
   "outputs": [
    {
     "name": "stdout",
     "output_type": "stream",
     "text": [
      "Enter any number: 2\n",
      "Enter another number: 3\n",
      "The divisible of 2 and 3  =  0.6666666666666666\n"
     ]
    }
   ],
   "source": [
    "def ex():\n",
    "    try:\n",
    "        a = int(input(\"Enter any number: \"))\n",
    "        b = int(input(\"Enter another number: \"))\n",
    "        \n",
    "    except ZeroDivisionError:\n",
    "        print(\"The value cannot be 0 \")\n",
    "        ex()\n",
    "    except ValueError:\n",
    "        print(\"Please enter correct value. Enter interger value only\")\n",
    "        ex()\n",
    "    else:\n",
    "        print(\"The divisible of\", a,\"and\" ,b,\" = \",a/b)\n",
    "ex()"
   ]
  },
  {
   "cell_type": "code",
   "execution_count": 7,
   "metadata": {},
   "outputs": [],
   "source": [
    "def exa():\n",
    "    try :\n",
    "        fileptr = open(\"book.txt\",\"a\")\n",
    "        try:\n",
    "            fileptr.write(\"Hi\")\n",
    "        finally:\n",
    "            fileptr.close()\n",
    "            print(\"file closed\")\n",
    "    except:\n",
    "        print(\"Error\")"
   ]
  },
  {
   "cell_type": "code",
   "execution_count": 14,
   "metadata": {},
   "outputs": [
    {
     "name": "stdout",
     "output_type": "stream",
     "text": [
      "Enter an email: @gm.c\n",
      "Invalid email @gm.c\n"
     ]
    }
   ],
   "source": [
    "# password validation\n",
    "a = \"aocnjipc@gmail.com\"\n",
    "b = set(a)\n",
    "c = list(b)\n",
    "c\n",
    "try:\n",
    "    num = input(\"Enter an email: \")\n",
    "    if '@'in num:\n",
    "        x = num.count('@')\n",
    "    assert(x<=1)\n",
    "except AssertionError:\n",
    "    print(\"Error mail not found\")\n",
    "else:\n",
    "    print(\"Invalid email\",num)"
   ]
  },
  {
   "cell_type": "code",
   "execution_count": 1,
   "metadata": {},
   "outputs": [],
   "source": [
    "# a= \"ancuob@.comdiiodc\"\n",
    "# b = list(a)\n",
    "# b.sort()\n",
    "# b"
   ]
  },
  {
   "cell_type": "code",
   "execution_count": 6,
   "metadata": {},
   "outputs": [
    {
     "name": "stdout",
     "output_type": "stream",
     "text": [
      "Enter your valid email: @\n",
      "It is valid email.\n",
      "Invalid email\n",
      "Enter your valid email: a\n"
     ]
    }
   ],
   "source": [
    "def valid():\n",
    "    try:\n",
    "        email = input(\"Enter your valid email: \")\n",
    "        if \"@\"in email:\n",
    "            x = email.count(\"@\")\n",
    "            print(\"It is valid email.\")\n",
    "            assert(x<=1)['email']\n",
    "\n",
    "        elif \".\" in email:\n",
    "            x = email.count(\".\")\n",
    "            print(\"It is a valid email. \")\n",
    "    except:\n",
    "        print(\"Invalid email\")\n",
    "        valid()\n",
    "valid()"
   ]
  },
  {
   "cell_type": "code",
   "execution_count": null,
   "metadata": {},
   "outputs": [],
   "source": []
  }
 ],
 "metadata": {
  "kernelspec": {
   "display_name": "Python 3",
   "language": "python",
   "name": "python3"
  },
  "language_info": {
   "codemirror_mode": {
    "name": "ipython",
    "version": 3
   },
   "file_extension": ".py",
   "mimetype": "text/x-python",
   "name": "python",
   "nbconvert_exporter": "python",
   "pygments_lexer": "ipython3",
   "version": "3.7.4"
  }
 },
 "nbformat": 4,
 "nbformat_minor": 2
}

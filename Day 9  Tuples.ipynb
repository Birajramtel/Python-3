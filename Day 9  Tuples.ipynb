{
 "cells": [
  {
   "cell_type": "code",
   "execution_count": 8,
   "metadata": {},
   "outputs": [
    {
     "name": "stdout",
     "output_type": "stream",
     "text": [
      "apple\n",
      "('apple', 'ball', 'cat', 'fish', 'goat')\n"
     ]
    }
   ],
   "source": [
    "a = ('apple', 'ball', 'cat')\n",
    "print(a[0])\n",
    "b = ('fish', 'goat')\n",
    "print(a+b)"
   ]
  },
  {
   "cell_type": "code",
   "execution_count": 10,
   "metadata": {},
   "outputs": [
    {
     "name": "stdout",
     "output_type": "stream",
     "text": [
      "('apple', 'ball', 'ball')\n"
     ]
    }
   ],
   "source": [
    "a = (\"apple\", 'ball')\n",
    "b = ('ball',)\n",
    "print(a+b)"
   ]
  },
  {
   "cell_type": "code",
   "execution_count": 12,
   "metadata": {},
   "outputs": [
    {
     "data": {
      "text/plain": [
       "('apple', 'ball', 'fish')"
      ]
     },
     "execution_count": 12,
     "metadata": {},
     "output_type": "execute_result"
    }
   ],
   "source": [
    "a = (\"apple\", 'ball')\n",
    "b = 'fish'\n",
    "a +(b,)"
   ]
  },
  {
   "cell_type": "code",
   "execution_count": 14,
   "metadata": {},
   "outputs": [
    {
     "name": "stdout",
     "output_type": "stream",
     "text": [
      "apple\n",
      "ball\n",
      "cat\n"
     ]
    }
   ],
   "source": [
    "a = ('apple', 'ball', 'cat')\n",
    "for x  in a:\n",
    "    print(x)"
   ]
  },
  {
   "cell_type": "code",
   "execution_count": 18,
   "metadata": {},
   "outputs": [
    {
     "name": "stdout",
     "output_type": "stream",
     "text": [
      "Yes 3\n"
     ]
    }
   ],
   "source": [
    "a = ('apple', 'ball', 'cat', 'apple', 'apple')\n",
    "b= 'apple'\n",
    "if b in a:\n",
    "    print(\"Yes\", a.count(b))"
   ]
  },
  {
   "cell_type": "code",
   "execution_count": 22,
   "metadata": {},
   "outputs": [
    {
     "name": "stdout",
     "output_type": "stream",
     "text": [
      "('apple', 'ball')\n"
     ]
    },
    {
     "data": {
      "text/plain": [
       "0"
      ]
     },
     "execution_count": 22,
     "metadata": {},
     "output_type": "execute_result"
    }
   ],
   "source": [
    "a = ('apple', 'ball', 'cat')\n",
    "b = a[0:2]\n",
    "print(b)\n",
    "b.index('apple')"
   ]
  },
  {
   "cell_type": "code",
   "execution_count": 62,
   "metadata": {},
   "outputs": [
    {
     "name": "stdout",
     "output_type": "stream",
     "text": [
      "Enter any value you want to delete:rat\n",
      "('apple', 'ball', 'rat', 'dog', 'rabbit', 'rat', 'rat', 'rat')\n",
      "0\n",
      "('apple', 'ball', 'dog', 'rabbit', 'rat', 'rat', 'rat')\n",
      "1\n",
      "('apple', 'ball', 'dog', 'rabbit', 'rat', 'rat')\n",
      "2\n",
      "('apple', 'ball', 'dog', 'rabbit', 'rat')\n",
      "3\n",
      "('apple', 'ball', 'dog', 'rabbit')\n",
      "4\n",
      "<built-in function sum>\n"
     ]
    }
   ],
   "source": [
    "# Repeted value must be remove\n",
    "inp = input(\"Enter any value you want to delete:\")\n",
    "a = ('apple', 'ball', 'rat','rat','dog', 'rabbit','rat','rat','rat') \n",
    "n = a.count(inp)\n",
    "for k in range(n):\n",
    "    x = a.index(inp)\n",
    "    i = a[0:x]\n",
    "    j = a[x+1:]\n",
    "    a = i+j\n",
    "    print(a)\n",
    "    print(k)"
   ]
  },
  {
   "cell_type": "code",
   "execution_count": 65,
   "metadata": {},
   "outputs": [
    {
     "name": "stdout",
     "output_type": "stream",
     "text": [
      "Volumn =  60\n"
     ]
    }
   ],
   "source": [
    "l = 5\n",
    "b = 6\n",
    "h = 2\n",
    "k = (l,b,h)\n",
    "def cal(a):\n",
    "    x,y,z = a\n",
    "    print(\"Volumn = \",x*y*z)\n",
    "cal(k)"
   ]
  },
  {
   "cell_type": "code",
   "execution_count": 67,
   "metadata": {},
   "outputs": [],
   "source": [
    "# tuple tuple\n",
    "# tuple list\n",
    "# list tuple\n"
   ]
  },
  {
   "cell_type": "code",
   "execution_count": null,
   "metadata": {},
   "outputs": [],
   "source": []
  }
 ],
 "metadata": {
  "kernelspec": {
   "display_name": "Python 3",
   "language": "python",
   "name": "python3"
  },
  "language_info": {
   "codemirror_mode": {
    "name": "ipython",
    "version": 3
   },
   "file_extension": ".py",
   "mimetype": "text/x-python",
   "name": "python",
   "nbconvert_exporter": "python",
   "pygments_lexer": "ipython3",
   "version": "3.7.4"
  }
 },
 "nbformat": 4,
 "nbformat_minor": 2
}

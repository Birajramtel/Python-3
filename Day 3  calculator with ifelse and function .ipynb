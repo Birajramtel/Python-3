{
 "cells": [
  {
   "cell_type": "code",
   "execution_count": 3,
   "metadata": {},
   "outputs": [
    {
     "name": "stdout",
     "output_type": "stream",
     "text": [
      "Enter your name:ram\n",
      "Enter your age:123\n",
      "Enter your address:ktm\n",
      "('ram', '123', 'ktm')\n",
      "hello my name is ram My age is: 123 I live in: Ktm\n"
     ]
    }
   ],
   "source": [
    "name = input (\"Enter your name:\")\n",
    "age = input(\"Enter your age:\")\n",
    "add = input(\"Enter your address:\")\n",
    "l = (name, age, add)\n",
    "def info(l):\n",
    "    x,y,z= l\n",
    "    print(l)\n",
    "    print(\"hello my name is\",x,\"My age is:\",y, \"I live in:\", z.capitalize())\n",
    "info(l)"
   ]
  },
  {
   "cell_type": "code",
   "execution_count": 7,
   "metadata": {},
   "outputs": [
    {
     "name": "stdout",
     "output_type": "stream",
     "text": [
      "Enter the number you want to factrial:5\n"
     ]
    },
    {
     "data": {
      "text/plain": [
       "120"
      ]
     },
     "execution_count": 7,
     "metadata": {},
     "output_type": "execute_result"
    }
   ],
   "source": [
    "import math as m\n",
    "x = int(input(\"Enter the number you want to factrial:\"))\n",
    "m.factorial(x)"
   ]
  },
  {
   "cell_type": "code",
   "execution_count": null,
   "metadata": {},
   "outputs": [],
   "source": [
    "def cal(): \n",
    "    \n",
    "    a = int(input(\"Enter value of a:\"))\n",
    "    b = int(input(\"Enter value of b:\"))\n",
    "    o = input(\"Enter the operator(+ - * /)=\")\n",
    "    if o == \"+\":\n",
    "        print(add(a,b))\n",
    "        \n",
    "    elif o == \"-\":\n",
    "        print(sub(a,b))\n",
    "        \n",
    "    elif o == \"*\":\n",
    "        print(mul(a,b))\n",
    "        \n",
    "    elif o == \"/\":\n",
    "        if b!=0:\n",
    "            print(div(a/b))\n",
    "        else:\n",
    "            print(\"Value of b couldnot be 0\")\n",
    "    \n",
    "    else:\n",
    "        print(\"Enter valid operator\")\n",
    "        cal()\n",
    "    x = int(input(\"Enter 0 to exit\"))\n",
    "    if x==0:\n",
    "        print(\"Program is ended. Thank you for using our app\")\n",
    "    else:\n",
    "        cal()\n",
    "def add(a,b):\n",
    "    return a+b\n",
    "def sub(a,b):\n",
    "    return a-b\n",
    "def mul(a,b):\n",
    "    return a*b\n",
    "def div(a,b):\n",
    "    return a/b\n",
    "cal()"
   ]
  },
  {
   "cell_type": "code",
   "execution_count": 2,
   "metadata": {},
   "outputs": [
    {
     "name": "stdout",
     "output_type": "stream",
     "text": [
      "Enter any letter kathmandu\n",
      "Enter first number 0\n",
      "Enter second number7\n",
      "kathmand\n"
     ]
    }
   ],
   "source": [
    "def letter():\n",
    "    x = input(\"Enter any letter \")\n",
    "    a = int(input(\"Enter first number \"))\n",
    "    b = int(input(\"Enter second number\"))\n",
    "    let = x[a:b+1]\n",
    "    print(let)\n",
    "letter()\n"
   ]
  },
  {
   "cell_type": "code",
   "execution_count": 32,
   "metadata": {},
   "outputs": [
    {
     "name": "stdout",
     "output_type": "stream",
     "text": [
      "Enter the degree (0 30 45 60 90): 12\n",
      "Enter the number to be power2\n",
      "3.141592653589793\n",
      "3.584962500721156\n",
      "144.0\n"
     ]
    }
   ],
   "source": [
    "import math as m\n",
    "x= int(input(\"Enter the degree (0 30 45 60 90): \"))\n",
    "y = int(input(\"Enter the number to be power\"))\n",
    "print (m.pi)\n",
    "print(m.log2(x))\n",
    "print (m.pow(x,y))\n"
   ]
  },
  {
   "cell_type": "code",
   "execution_count": null,
   "metadata": {},
   "outputs": [],
   "source": [
    "import math as m\n",
    "x = int(input(\"Enter any number: \"))\n",
    "def sin():\n",
    "    a = m.sin(x)\n",
    "    print(\"The value of sin\", x , \"is\", a)\n",
    "sin()"
   ]
  },
  {
   "cell_type": "code",
   "execution_count": 11,
   "metadata": {},
   "outputs": [
    {
     "name": "stdout",
     "output_type": "stream",
     "text": [
      "Enter the degree (0 30 45 60 90): sin45\n",
      "0.85\n"
     ]
    }
   ],
   "source": [
    "import math as m\n",
    "def sin():\n",
    "    x = int(input(\"Enter the degree (0 30 45 60 90): sin\"))\n",
    "    if x==0:\n",
    "        print(\"0\")\n",
    "    elif x==30:\n",
    "        print(\"0.5\")\n",
    "    elif x==45:\n",
    "        print(\"0.85\")\n",
    "    elif x==60:\n",
    "        print(\"0.866\")\n",
    "    elif x==90:\n",
    "        print(\"1\")\n",
    "    else:\n",
    "        print(\"Error! Please enter the degree properly\")\n",
    "sin()"
   ]
  },
  {
   "cell_type": "code",
   "execution_count": 2,
   "metadata": {},
   "outputs": [
    {
     "name": "stdout",
     "output_type": "stream",
     "text": [
      "Enter any degree: 45\n",
      "0.8660254037844387\n",
      "The value of sin 45 is 0.8509035245341184\n"
     ]
    }
   ],
   "source": [
    "import math as m\n",
    "x = int(input(\"Enter any degree: \"))\n",
    "b = m.pi / 6\n",
    "print (m.cos(b)) \n",
    "def sin():\n",
    "    a = m.sin(x)\n",
    "    print(\"The value of sin\", x , \"is\", a)\n",
    "sin()\n"
   ]
  },
  {
   "cell_type": "code",
   "execution_count": null,
   "metadata": {},
   "outputs": [],
   "source": []
  }
 ],
 "metadata": {
  "kernelspec": {
   "display_name": "Python 3",
   "language": "python",
   "name": "python3"
  },
  "language_info": {
   "codemirror_mode": {
    "name": "ipython",
    "version": 3
   },
   "file_extension": ".py",
   "mimetype": "text/x-python",
   "name": "python",
   "nbconvert_exporter": "python",
   "pygments_lexer": "ipython3",
   "version": "3.7.4"
  }
 },
 "nbformat": 4,
 "nbformat_minor": 2
}

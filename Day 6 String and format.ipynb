{
 "cells": [
  {
   "cell_type": "code",
   "execution_count": 4,
   "metadata": {},
   "outputs": [
    {
     "name": "stdout",
     "output_type": "stream",
     "text": [
      "Enter any name: ram\n",
      "Hello RAM\n"
     ]
    }
   ],
   "source": [
    "a = input(\"Enter any name: \")\n",
    "print(\"Hello\",a.upper())"
   ]
  },
  {
   "cell_type": "code",
   "execution_count": 8,
   "metadata": {},
   "outputs": [
    {
     "name": "stdout",
     "output_type": "stream",
     "text": [
      "Enter your name:bob\n",
      "Enter your age:32\n",
      "Enter your address:ktm\n",
      "Hello my name is bob. I am 32. I live in ktm\n"
     ]
    }
   ],
   "source": [
    "a = input(\"Enter your name:\")\n",
    "b = int(input(\"Enter your age:\"))\n",
    "c = input(\"Enter your address:\")\n",
    "output = f\"Hello my name is {a}. I am {b}. I live in {c}\"\n",
    "print(output)"
   ]
  },
  {
   "cell_type": "code",
   "execution_count": 15,
   "metadata": {},
   "outputs": [
    {
     "name": "stdout",
     "output_type": "stream",
     "text": [
      "hello\n",
      "hello\n",
      "\n"
     ]
    }
   ],
   "source": [
    "a = \"hello\\n\"*2\n",
    "print(a)"
   ]
  },
  {
   "cell_type": "code",
   "execution_count": 18,
   "metadata": {},
   "outputs": [
    {
     "name": "stdout",
     "output_type": "stream",
     "text": [
      "H He Hlowrdi \n"
     ]
    }
   ],
   "source": [
    "a = \"Hello world it ss  good to be here.\"\n",
    "print(a[0], a[0:2], a[0:15:2])"
   ]
  },
  {
   "cell_type": "code",
   "execution_count": 31,
   "metadata": {},
   "outputs": [
    {
     "name": "stdout",
     "output_type": "stream",
     "text": [
      "P y t \t h o n "
     ]
    }
   ],
   "source": [
    "a = \"Pyt\\thon\"\n",
    "for x in a:\n",
    "     print(x, end=' ')"
   ]
  },
  {
   "cell_type": "code",
   "execution_count": null,
   "metadata": {},
   "outputs": [],
   "source": []
  }
 ],
 "metadata": {
  "kernelspec": {
   "display_name": "Python 3",
   "language": "python",
   "name": "python3"
  },
  "language_info": {
   "codemirror_mode": {
    "name": "ipython",
    "version": 3
   },
   "file_extension": ".py",
   "mimetype": "text/x-python",
   "name": "python",
   "nbconvert_exporter": "python",
   "pygments_lexer": "ipython3",
   "version": "3.7.4"
  }
 },
 "nbformat": 4,
 "nbformat_minor": 2
}

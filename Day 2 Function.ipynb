{
 "cells": [
  {
   "cell_type": "code",
   "execution_count": 12,
   "metadata": {},
   "outputs": [
    {
     "name": "stdout",
     "output_type": "stream",
     "text": [
      "The perimeter is 8\n"
     ]
    }
   ],
   "source": [
    "def perimeter(l,b):\n",
    "    print (\"The perimeter is\", l * b)\n",
    "perimeter(2,4)"
   ]
  },
  {
   "cell_type": "code",
   "execution_count": 18,
   "metadata": {},
   "outputs": [
    {
     "name": "stdout",
     "output_type": "stream",
     "text": [
      "Enter the principle: 12\n",
      "Enter the time: 12\n",
      "Enter the rate: 12\n",
      "The value of interst is: 17.28\n",
      "Principle is:  12\n",
      "Time is:  12\n",
      "Rate is:  12\n"
     ]
    }
   ],
   "source": [
    "p = int (input(\"Enter the principle: \"))\n",
    "t = int (input(\"Enter the time: \"))\n",
    "r = int (input(\"Enter the rate: \"))\n",
    "def intrest (p,t,r):\n",
    "    i = p * t * r/100\n",
    "    print(\"The value of interst is:\", i)\n",
    "    print(\"Principle is: \", p)\n",
    "    print(\"Time is: \", t)\n",
    "    print(\"Rate is: \", r)\n",
    "intrest(p,t,r)"
   ]
  },
  {
   "cell_type": "code",
   "execution_count": 25,
   "metadata": {},
   "outputs": [
    {
     "name": "stdout",
     "output_type": "stream",
     "text": [
      "The value is:14664\n"
     ]
    }
   ],
   "source": [
    "p =1222\n",
    "t = 12\n",
    "r = 1\n",
    "print (\"The value is:\" +str(p*t*r))"
   ]
  },
  {
   "cell_type": "code",
   "execution_count": 23,
   "metadata": {},
   "outputs": [
    {
     "name": "stdout",
     "output_type": "stream",
     "text": [
      "The value is: 1222\n"
     ]
    }
   ],
   "source": [
    "p =1222\n",
    "t = 1\n",
    "r = 1\n",
    "print (\"The value is:\" ,str(p*t*r))"
   ]
  },
  {
   "cell_type": "code",
   "execution_count": 28,
   "metadata": {},
   "outputs": [
    {
     "name": "stdout",
     "output_type": "stream",
     "text": [
      "Hello world\n"
     ]
    }
   ],
   "source": [
    "def function ():\n",
    "    print(\"Hello world\")\n",
    "function()"
   ]
  },
  {
   "cell_type": "code",
   "execution_count": 15,
   "metadata": {},
   "outputs": [
    {
     "name": "stdout",
     "output_type": "stream",
     "text": [
      "The single function from abss is : 3\n",
      "The single function from adsf is: 5\n",
      "The sum of both function is: 8\n"
     ]
    }
   ],
   "source": [
    "# returntype function\n",
    "def abss(a,b):\n",
    "    x= a+b\n",
    "    return x\n",
    "\n",
    "def adsf(c,d):\n",
    "    y = c+d\n",
    "    return y\n",
    "\n",
    "i = abss(1,2)\n",
    "j = adsf(2,3)\n",
    "print (\"The single function from abss is :\", i)\n",
    "print (\"The single function from adsf is:\", j)\n",
    "print(\"The sum of both function is:\", i+j)\n"
   ]
  },
  {
   "cell_type": "code",
   "execution_count": 3,
   "metadata": {},
   "outputs": [
    {
     "name": "stdout",
     "output_type": "stream",
     "text": [
      "1 Number is: 1\n",
      "2 Number is: 2\n"
     ]
    }
   ],
   "source": [
    "def numbe(a,b):\n",
    "    print(\"1 Number is:\", a)\n",
    "    print(\"2 Number is:\", b)\n",
    "numbe(1,2)"
   ]
  },
  {
   "cell_type": "code",
   "execution_count": 3,
   "metadata": {},
   "outputs": [
    {
     "name": "stdout",
     "output_type": "stream",
     "text": [
      "java\n",
      ".net\n",
      "python\n"
     ]
    }
   ],
   "source": [
    "def language (lan = \"python\"):\n",
    "    print (lan)\n",
    "language(\"java\")\n",
    "language(\".net\")\n",
    "language()"
   ]
  },
  {
   "cell_type": "code",
   "execution_count": 20,
   "metadata": {},
   "outputs": [
    {
     "name": "stdout",
     "output_type": "stream",
     "text": [
      "A is: RAM\n",
      "B is: SHYAM\n",
      "C is: HARI\n",
      "D is: KAMAL\n"
     ]
    }
   ],
   "source": [
    "def numbe(a,b,c,d):\n",
    "    print(\"A is:\", a.upper())\n",
    "    print(\"B is:\", b.upper())\n",
    "    print(\"C is:\", c.upper())\n",
    "    print(\"D is:\", d.upper())\n",
    "   \n",
    "numbe(\"ram\",\"shyam\",\"hari\",\"kamal\")\n"
   ]
  },
  {
   "cell_type": "code",
   "execution_count": 2,
   "metadata": {},
   "outputs": [
    {
     "name": "stdout",
     "output_type": "stream",
     "text": [
      "12\n"
     ]
    }
   ],
   "source": [
    "def periOfRect(l,b):\n",
    "    peri = 2 * (l+b)\n",
    "    print(peri)\n",
    "periOfRect(2,4)"
   ]
  },
  {
   "cell_type": "code",
   "execution_count": 36,
   "metadata": {},
   "outputs": [
    {
     "name": "stdout",
     "output_type": "stream",
     "text": [
      "The sum is: 24\n",
      "The sum is: 6\n",
      "The multiplication of  2 and 3 is 6\n",
      "3\n",
      "5\n",
      "The sum of one function 3 and another function 5 is 8\n"
     ]
    }
   ],
   "source": [
    "def practice():\n",
    "    a = 12\n",
    "    b = 12\n",
    "    print (\"The sum is:\", a+b)\n",
    "practice()\n",
    "\n",
    "def practice2(a,b):\n",
    "    print(\"The sum is:\", a+b)\n",
    "practice2(2,4)\n",
    "\n",
    "def practice3(a,b):\n",
    "    x = a*b\n",
    "    print(\"The multiplication of \", a ,\"and\", b , \"is\" ,x)\n",
    "practice3(2,3)\n",
    "\n",
    "def practice4(c,d):\n",
    "    x = c+d\n",
    "    return x\n",
    "def practice5(x,y):\n",
    "    z= x+y\n",
    "    return z\n",
    "\n",
    "\n",
    "i = practice4(1,2)\n",
    "j = practice5(2,3)\n",
    "print(i)\n",
    "print(j)\n",
    "print(\"The sum of one function\", i ,\"and another function\" , j ,\"is\", i+j)\n",
    "\n"
   ]
  },
  {
   "cell_type": "code",
   "execution_count": 32,
   "metadata": {},
   "outputs": [
    {
     "name": "stdout",
     "output_type": "stream",
     "text": [
      "3\n"
     ]
    }
   ],
   "source": [
    "    "
   ]
  },
  {
   "cell_type": "code",
   "execution_count": null,
   "metadata": {},
   "outputs": [],
   "source": []
  }
 ],
 "metadata": {
  "kernelspec": {
   "display_name": "Python 3",
   "language": "python",
   "name": "python3"
  },
  "language_info": {
   "codemirror_mode": {
    "name": "ipython",
    "version": 3
   },
   "file_extension": ".py",
   "mimetype": "text/x-python",
   "name": "python",
   "nbconvert_exporter": "python",
   "pygments_lexer": "ipython3",
   "version": "3.7.4"
  }
 },
 "nbformat": 4,
 "nbformat_minor": 2
}

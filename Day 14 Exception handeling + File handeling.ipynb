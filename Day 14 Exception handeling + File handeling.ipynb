{
 "cells": [
  {
   "cell_type": "code",
   "execution_count": 2,
   "metadata": {},
   "outputs": [
    {
     "name": "stdout",
     "output_type": "stream",
     "text": [
      "Enter any number: 2\n",
      "Error\n",
      "The value is not returned\n"
     ]
    }
   ],
   "source": [
    "def cal():\n",
    "    try:\n",
    "        num = int(input(\"Enter any number: \"))\n",
    "        assert(num%2!=0)\n",
    "    except AssertionError :\n",
    "        print(\"Error\")\n",
    "    else:\n",
    "        return num\n",
    "n = cal()\n",
    "if n == None:\n",
    "    print(\"The value is not returned\")\n",
    "else:\n",
    "    print(\"The program ends and the return value is =\",n)"
   ]
  },
  {
   "cell_type": "code",
   "execution_count": 3,
   "metadata": {},
   "outputs": [
    {
     "name": "stdout",
     "output_type": "stream",
     "text": [
      "The file in not in your machine\n"
     ]
    }
   ],
   "source": [
    "try:\n",
    "    b = open('file11am.txt','r')\n",
    "    \n",
    "except:\n",
    "    print(\"The file in not in your machine\")\n",
    "else:\n",
    "    b.close()"
   ]
  },
  {
   "cell_type": "code",
   "execution_count": 5,
   "metadata": {},
   "outputs": [
    {
     "name": "stdout",
     "output_type": "stream",
     "text": [
      "The file is created\n"
     ]
    }
   ],
   "source": [
    "try:\n",
    "    b = open('file11am.txt','r')\n",
    "    \n",
    "except:\n",
    "    print(\"The file in not in your machine\")\n",
    "else:\n",
    "    print(\"The file is created\")\n",
    "    b.close()"
   ]
  },
  {
   "cell_type": "code",
   "execution_count": 6,
   "metadata": {},
   "outputs": [
    {
     "name": "stdout",
     "output_type": "stream",
     "text": [
      "1. One file is created.\n",
      "2. Please enter any value you want\n",
      "3. Python  is the best programmung language\n",
      "\n",
      "\n"
     ]
    }
   ],
   "source": [
    "b = open('file11am.txt','r')\n",
    "print(b.read())\n",
    "b.close()"
   ]
  },
  {
   "cell_type": "code",
   "execution_count": 7,
   "metadata": {},
   "outputs": [
    {
     "name": "stdout",
     "output_type": "stream",
     "text": [
      "1. One file is created.\n",
      "\n"
     ]
    }
   ],
   "source": [
    "b = open('file11am.txt','r')\n",
    "print(b.readline())\n",
    "b.close()"
   ]
  },
  {
   "cell_type": "code",
   "execution_count": 9,
   "metadata": {},
   "outputs": [
    {
     "name": "stdout",
     "output_type": "stream",
     "text": [
      "1. One file is created.\n",
      "2. Please enter any value you want\n",
      "3. Python  is the best programmung language\n",
      "\n",
      "\n",
      " 6.This is a new line\n",
      " 6.This is a new line\n"
     ]
    }
   ],
   "source": [
    "b = open('file11am.txt','a')\n",
    "b.write('\\n 6.This is a new line')\n",
    "b.close()\n",
    "\n",
    "b = open('file11am.txt','r')\n",
    "print(b.read())"
   ]
  },
  {
   "cell_type": "code",
   "execution_count": 13,
   "metadata": {},
   "outputs": [
    {
     "name": "stdout",
     "output_type": "stream",
     "text": [
      "Enter your name: bob\n",
      "Enter your age: 21\n",
      "Enter your address: patan\n",
      "name= BOB age = 21 address = PATAN\n"
     ]
    }
   ],
   "source": [
    "name = input(\"Enter your name: \")\n",
    "age = int(input(\"Enter your age: \"))\n",
    "add = input(\"Enter your address: \")\n",
    "b = open('file11am.txt','w')\n",
    "b.write(f\"name= {name.upper()} age = {age} address = {add.upper()}\")\n",
    "b.close()\n",
    "\n",
    "b = open(\"file11am.txt\",'r')\n",
    "print(b.read())"
   ]
  },
  {
   "cell_type": "code",
   "execution_count": 18,
   "metadata": {},
   "outputs": [
    {
     "name": "stdout",
     "output_type": "stream",
     "text": [
      "How many rows do you want to add: 0\n",
      "\n",
      "\n"
     ]
    }
   ],
   "source": [
    "b = open('file11am.txt','a')\n",
    "n = int(input(\"How many rows do you want to add: \"))\n",
    "for i in range(1, n+1):\n",
    "    name = input(\"Enter your name: \")\n",
    "    age = int(input(\"Enter your age: \"))\n",
    "    add = input(\"Enter your address: \")\n",
    "    b.write(f\" {i} name= {name.upper()} age = {age} address = {add.upper()}\\n\")\n",
    "b.close()\n",
    "b = open(\"file11am.txt\",'r')\n",
    "print(b.read())"
   ]
  },
  {
   "cell_type": "code",
   "execution_count": 21,
   "metadata": {},
   "outputs": [
    {
     "name": "stdout",
     "output_type": "stream",
     "text": [
      "How many rows do you want to add: 0\n",
      " 1, RAM, 22, KTM\n",
      " 2, SHYAM, 22, BKTR\n",
      " 3, BOB, 21, PATAN\n",
      " 1. RAM, 23, KTM\n",
      "\n"
     ]
    }
   ],
   "source": [
    "b = open('file11am.csv','a')\n",
    "n = int(input(\"How many rows do you want to add: \"))\n",
    "for i in range(1, n+1):\n",
    "    name = input(\"Enter your name: \")\n",
    "    age = int(input(\"Enter your age: \"))\n",
    "    add = input(\"Enter your address: \")\n",
    "    b.write(f\" {i}, {name.upper()}, {age}, {add.upper()}\\n\")\n",
    "b.close()\n",
    "b = open(\"file11am.csv\",'r')\n",
    "print(b.read())"
   ]
  },
  {
   "cell_type": "code",
   "execution_count": 23,
   "metadata": {},
   "outputs": [],
   "source": [
    "b = open('file11am.csv','a')\n",
    "b.write(f\"id,name,age,address\\n\")\n",
    "b.close()"
   ]
  },
  {
   "cell_type": "code",
   "execution_count": 24,
   "metadata": {},
   "outputs": [
    {
     "name": "stdout",
     "output_type": "stream",
     "text": [
      "How many rows do you want to add: 3\n",
      "Enter your name: ram\n",
      "Enter your age: 22\n",
      "Enter your address: ktm\n",
      "Enter your name: shyam\n",
      "Enter your age: 22\n",
      "Enter your address: bkt\n",
      "Enter your name: bob\n",
      "Enter your age: 21\n",
      "Enter your address: patan\n",
      " 1, RAM, 22, KTM\n",
      " 2, SHYAM, 22, BKTR\n",
      " 3, BOB, 21, PATAN\n",
      " 1. RAM, 23, KTM\n",
      "id,name,age,address\n",
      "id,name,age,address\n",
      " 1, RAM, 22, KTM\n",
      " 2, SHYAM, 22, BKT\n",
      " 3, BOB, 21, PATAN\n",
      "\n"
     ]
    }
   ],
   "source": [
    "b = open('file11am.csv','a')\n",
    "n = int(input(\"How many rows do you want to add: \"))\n",
    "for i in range(1, n+1):\n",
    "    name = input(\"Enter your name: \")\n",
    "    age = int(input(\"Enter your age: \"))\n",
    "    add = input(\"Enter your address: \")\n",
    "    b.write(f\" {i}, {name.upper()}, {age}, {add.upper()}\\n\")\n",
    "b.close()\n",
    "b = open(\"file11am.csv\",'r')\n",
    "print(b.read())"
   ]
  },
  {
   "cell_type": "code",
   "execution_count": 32,
   "metadata": {},
   "outputs": [],
   "source": [
    "b = open('book.txt','a')\n",
    "b.close()"
   ]
  },
  {
   "cell_type": "code",
   "execution_count": 30,
   "metadata": {},
   "outputs": [],
   "source": [
    "import os\n",
    "os.remove('book.txt')"
   ]
  },
  {
   "cell_type": "code",
   "execution_count": 31,
   "metadata": {},
   "outputs": [
    {
     "name": "stdout",
     "output_type": "stream",
     "text": [
      "The file may be deleted\n"
     ]
    }
   ],
   "source": [
    "try:\n",
    "    b = open(\"book.txt\", 'r')\n",
    "except FileNotFoundError:\n",
    "    print(\"The file may be deleted\")"
   ]
  },
  {
   "cell_type": "code",
   "execution_count": 1,
   "metadata": {},
   "outputs": [
    {
     "ename": "NameError",
     "evalue": "name 'n' is not defined",
     "output_type": "error",
     "traceback": [
      "\u001b[1;31m---------------------------------------------------------------------------\u001b[0m",
      "\u001b[1;31mNameError\u001b[0m                                 Traceback (most recent call last)",
      "\u001b[1;32m<ipython-input-1-5284104faa15>\u001b[0m in \u001b[0;36m<module>\u001b[1;34m\u001b[0m\n\u001b[0;32m      5\u001b[0m         \u001b[0mprint\u001b[0m\u001b[1;33m(\u001b[0m\u001b[1;34m\"Enter integer value only.\"\u001b[0m\u001b[1;33m)\u001b[0m\u001b[1;33m\u001b[0m\u001b[1;33m\u001b[0m\u001b[0m\n\u001b[0;32m      6\u001b[0m     \u001b[0minfo\u001b[0m \u001b[1;33m=\u001b[0m \u001b[1;33m{\u001b[0m\u001b[1;33m}\u001b[0m\u001b[1;33m\u001b[0m\u001b[1;33m\u001b[0m\u001b[0m\n\u001b[1;32m----> 7\u001b[1;33m \u001b[0mr\u001b[0m \u001b[1;33m=\u001b[0m \u001b[0mcheck\u001b[0m\u001b[1;33m(\u001b[0m\u001b[0mn\u001b[0m\u001b[1;33m)\u001b[0m\u001b[1;33m\u001b[0m\u001b[1;33m\u001b[0m\u001b[0m\n\u001b[0m\u001b[0;32m      8\u001b[0m \u001b[1;32mfor\u001b[0m \u001b[0mi\u001b[0m \u001b[1;32min\u001b[0m \u001b[0mrange\u001b[0m\u001b[1;33m(\u001b[0m\u001b[0mn\u001b[0m\u001b[1;33m)\u001b[0m\u001b[1;33m:\u001b[0m\u001b[1;33m\u001b[0m\u001b[1;33m\u001b[0m\u001b[0m\n\u001b[0;32m      9\u001b[0m     \u001b[1;32mtry\u001b[0m\u001b[1;33m:\u001b[0m\u001b[1;33m\u001b[0m\u001b[1;33m\u001b[0m\u001b[0m\n",
      "\u001b[1;31mNameError\u001b[0m: name 'n' is not defined"
     ]
    }
   ],
   "source": [
    "def check(n):\n",
    "    try:\n",
    "        n = int(input(\"How many times do you want to run the program: \"))\n",
    "    except:\n",
    "        print(\"Enter integer value only.\")\n",
    "    info = {}\n",
    "r = check(n)\n",
    "for i in range(n):\n",
    "    try:\n",
    "        roll = int(input(\"Enter any roll number: \"))\n",
    "    except:\n",
    "        print(\"Enter integer value only.\")\n",
    "        roll = int(input(\"Enter any roll number: \"))\n",
    "    name = input(\"Enter the name: \")\n",
    "    try:\n",
    "        age = int(input(\"Enter the age: \"))\n",
    "    except:\n",
    "        print(\"Enter correct age.\")\n",
    "        age =int(input(\"Enter the age. \"))\n",
    "    address = input(\"Enter the address: \")\n",
    "    li = [name, age,address]\n",
    "    info[roll] = li\n",
    "sorted_dict = dict(sorted(info.items()))\n",
    "print(sorted_dict)"
   ]
  },
  {
   "cell_type": "code",
   "execution_count": 10,
   "metadata": {},
   "outputs": [
    {
     "name": "stdout",
     "output_type": "stream",
     "text": [
      "How many times do you want to run the program: 3\n",
      "Enter any roll number: 1\n",
      "Enter the name: ram\n",
      "Enter the age: 23\n",
      "Enter the address: ktm\n",
      "Enter any roll number: 3\n",
      "Enter the name: shyam\n",
      "Enter the age: 22\n",
      "Enter the address: bkt\n",
      "{1: ['RAM', 23, 'KTM'], 3: ['SHYAM', 22, 'BKT']}\n"
     ]
    }
   ],
   "source": [
    "def check():\n",
    "    try:\n",
    "        n = int(input(\"How many times do you want to run the program: \"))\n",
    "    except:\n",
    "        print(\"Enter Integer value only.\")\n",
    "        check()\n",
    "    else:\n",
    "        return n\n",
    "a = check()\n",
    "info = {}\n",
    "for i in range(n):\n",
    "    roll = int(input(\"Enter any roll number: \"))\n",
    "    name = input(\"Enter the name: \")\n",
    "    age = int(input(\"Enter the age: \"))\n",
    "    address = input(\"Enter the address: \")\n",
    "    li = [name.upper(), age,address.upper()]\n",
    "    info[roll] = li\n",
    "sorted_dict = dict(sorted(info.items()))\n",
    "print(sorted_dict)"
   ]
  },
  {
   "cell_type": "code",
   "execution_count": null,
   "metadata": {},
   "outputs": [],
   "source": []
  }
 ],
 "metadata": {
  "kernelspec": {
   "display_name": "Python 3",
   "language": "python",
   "name": "python3"
  },
  "language_info": {
   "codemirror_mode": {
    "name": "ipython",
    "version": 3
   },
   "file_extension": ".py",
   "mimetype": "text/x-python",
   "name": "python",
   "nbconvert_exporter": "python",
   "pygments_lexer": "ipython3",
   "version": "3.7.4"
  }
 },
 "nbformat": 4,
 "nbformat_minor": 2
}

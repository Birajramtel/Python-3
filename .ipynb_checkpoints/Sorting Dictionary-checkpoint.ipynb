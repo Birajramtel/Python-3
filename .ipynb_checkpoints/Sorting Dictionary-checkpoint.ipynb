{
 "cells": [
  {
   "cell_type": "code",
   "execution_count": 2,
   "metadata": {},
   "outputs": [
    {
     "name": "stdout",
     "output_type": "stream",
     "text": [
      "enter the value of row = 3\n",
      "enter roll no = 2\n",
      "enter name = ram\n",
      "enter age = 23\n",
      "enter address = ktm\n",
      "enter roll no = 1\n",
      "enter name = shyam\n",
      "enter age = 23\n",
      "enter address = bkt\n",
      "enter roll no = 4\n",
      "enter name = bob\n",
      "enter age = 22\n",
      "enter address = patan\n",
      "{2: ['ram', 23, 'ktm'], 1: ['shyam', 23, 'bkt'], 4: ['bob', 22, 'patan']}\n",
      "{1: ['shyam', 23, 'bkt'], 2: ['ram', 23, 'ktm'], 4: ['bob', 22, 'patan']}\n"
     ]
    }
   ],
   "source": [
    "demoDict = {}\n",
    "n = int(input(\"enter the value of row = \"))\n",
    "for i in range(n):\n",
    "    roll = int(input(\"enter roll no = \"))\n",
    "    name = input(\"enter name = \")\n",
    "    age = int(input(\"enter age = \"))\n",
    "    add = input(\"enter address = \")\n",
    "    x = [name, age, add]\n",
    "    demoDict[roll] = x\n",
    "print(demoDict)\n",
    "sorted_dict = dict(sorted(demoDict.items()))\n",
    "print(sorted_dict)"
   ]
  },
  {
   "cell_type": "code",
   "execution_count": null,
   "metadata": {},
   "outputs": [],
   "source": []
  }
 ],
 "metadata": {
  "kernelspec": {
   "display_name": "Python 3",
   "language": "python",
   "name": "python3"
  },
  "language_info": {
   "codemirror_mode": {
    "name": "ipython",
    "version": 3
   },
   "file_extension": ".py",
   "mimetype": "text/x-python",
   "name": "python",
   "nbconvert_exporter": "python",
   "pygments_lexer": "ipython3",
   "version": "3.7.4"
  }
 },
 "nbformat": 4,
 "nbformat_minor": 2
}

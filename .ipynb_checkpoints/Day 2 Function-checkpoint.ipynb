{
 "cells": [
  {
   "cell_type": "code",
   "execution_count": 12,
   "metadata": {},
   "outputs": [
    {
     "name": "stdout",
     "output_type": "stream",
     "text": [
      "The perimeter is 8\n"
     ]
    }
   ],
   "source": [
    "def perimeter(l,b):\n",
    "    print (\"The perimeter is\", l * b)\n",
    "perimeter(2,4)"
   ]
  },
  {
   "cell_type": "code",
   "execution_count": 18,
   "metadata": {},
   "outputs": [
    {
     "name": "stdout",
     "output_type": "stream",
     "text": [
      "Enter the principle: 12\n",
      "Enter the time: 12\n",
      "Enter the rate: 12\n",
      "The value of interst is: 17.28\n",
      "Principle is:  12\n",
      "Time is:  12\n",
      "Rate is:  12\n"
     ]
    }
   ],
   "source": [
    "p = int (input(\"Enter the principle: \"))\n",
    "t = int (input(\"Enter the time: \"))\n",
    "r = int (input(\"Enter the rate: \"))\n",
    "def intrest (p,t,r):\n",
    "    i = p * t * r/100\n",
    "    print(\"The value of interst is:\", i)\n",
    "    print(\"Principle is: \", p)\n",
    "    print(\"Time is: \", t)\n",
    "    print(\"Rate is: \", r)\n",
    "intrest(p,t,r)"
   ]
  },
  {
   "cell_type": "code",
   "execution_count": 25,
   "metadata": {},
   "outputs": [
    {
     "name": "stdout",
     "output_type": "stream",
     "text": [
      "The value is:14664\n"
     ]
    }
   ],
   "source": [
    "p =1222\n",
    "t = 12\n",
    "r = 1\n",
    "print (\"The value is:\" +str(p*t*r))"
   ]
  },
  {
   "cell_type": "code",
   "execution_count": 23,
   "metadata": {},
   "outputs": [
    {
     "name": "stdout",
     "output_type": "stream",
     "text": [
      "The value is: 1222\n"
     ]
    }
   ],
   "source": [
    "p =1222\n",
    "t = 1\n",
    "r = 1\n",
    "print (\"The value is:\" ,str(p*t*r))"
   ]
  },
  {
   "cell_type": "code",
   "execution_count": 28,
   "metadata": {},
   "outputs": [
    {
     "name": "stdout",
     "output_type": "stream",
     "text": [
      "Hello world\n"
     ]
    }
   ],
   "source": [
    "def function ():\n",
    "    print(\"Hello world\")\n",
    "function()"
   ]
  },
  {
   "cell_type": "code",
   "execution_count": null,
   "metadata": {},
   "outputs": [],
   "source": [
    "returntype function"
   ]
  }
 ],
 "metadata": {
  "kernelspec": {
   "display_name": "Python 3",
   "language": "python",
   "name": "python3"
  },
  "language_info": {
   "codemirror_mode": {
    "name": "ipython",
    "version": 3
   },
   "file_extension": ".py",
   "mimetype": "text/x-python",
   "name": "python",
   "nbconvert_exporter": "python",
   "pygments_lexer": "ipython3",
   "version": "3.7.4"
  }
 },
 "nbformat": 4,
 "nbformat_minor": 2
}

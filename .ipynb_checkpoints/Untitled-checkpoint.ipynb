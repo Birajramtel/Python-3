{
 "cells": [
  {
   "cell_type": "code",
   "execution_count": 1,
   "metadata": {},
   "outputs": [
    {
     "name": "stdout",
     "output_type": "stream",
     "text": [
      "Enter p = 1000\n",
      "Enter t = 3\n",
      "Enter r = 10\n",
      "The value of i is 300.0\n"
     ]
    }
   ],
   "source": [
    "p = int(input(\"Enter p = \"))\n",
    "t = int(input(\"Enter t = \"))\n",
    "r = int(input(\"Enter r = \"))\n",
    "i = p*t*r/100\n",
    "def ints(i):\n",
    "    print(\"The value of i is\",i)\n",
    "ints(i)"
   ]
  },
  {
   "cell_type": "code",
   "execution_count": 5,
   "metadata": {},
   "outputs": [
    {
     "data": {
      "text/plain": [
       "11"
      ]
     },
     "execution_count": 5,
     "metadata": {},
     "output_type": "execute_result"
    }
   ],
   "source": [
    "def fun():\n",
    "    a = 5\n",
    "    b = 6\n",
    "    x = a+b\n",
    "    return x\n",
    "fun()"
   ]
  },
  {
   "cell_type": "code",
   "execution_count": 8,
   "metadata": {},
   "outputs": [
    {
     "name": "stdout",
     "output_type": "stream",
     "text": [
      "50\n",
      "45\n"
     ]
    },
    {
     "ename": "NameError",
     "evalue": "name 'b' is not defined",
     "output_type": "error",
     "traceback": [
      "\u001b[1;31m---------------------------------------------------------------------------\u001b[0m",
      "\u001b[1;31mNameError\u001b[0m                                 Traceback (most recent call last)",
      "\u001b[1;32m<ipython-input-8-9c289ff148b6>\u001b[0m in \u001b[0;36m<module>\u001b[1;34m\u001b[0m\n\u001b[0;32m      6\u001b[0m \u001b[0mpractice\u001b[0m\u001b[1;33m(\u001b[0m\u001b[1;33m)\u001b[0m\u001b[1;33m\u001b[0m\u001b[1;33m\u001b[0m\u001b[0m\n\u001b[0;32m      7\u001b[0m \u001b[0mprint\u001b[0m\u001b[1;33m(\u001b[0m\u001b[0ma\u001b[0m\u001b[1;33m)\u001b[0m\u001b[1;33m\u001b[0m\u001b[1;33m\u001b[0m\u001b[0m\n\u001b[1;32m----> 8\u001b[1;33m \u001b[0mprint\u001b[0m\u001b[1;33m(\u001b[0m\u001b[0mb\u001b[0m\u001b[1;33m)\u001b[0m\u001b[1;33m\u001b[0m\u001b[1;33m\u001b[0m\u001b[0m\n\u001b[0m",
      "\u001b[1;31mNameError\u001b[0m: name 'b' is not defined"
     ]
    }
   ],
   "source": [
    "a = 45\n",
    "def practice():\n",
    "    b = 5\n",
    "    x = a+b\n",
    "    print(x)\n",
    "practice()\n",
    "print(a)\n",
    "print(b)"
   ]
  },
  {
   "cell_type": "code",
   "execution_count": 11,
   "metadata": {},
   "outputs": [
    {
     "name": "stdout",
     "output_type": "stream",
     "text": [
      "5\n",
      "3\n"
     ]
    }
   ],
   "source": [
    "def cal():\n",
    "    def add(a,b):\n",
    "        return a+b\n",
    "    def sub(a,b):\n",
    "        return a-b\n",
    "    print(add(2,3))\n",
    "    print(sub(5,2))\n",
    "cal()"
   ]
  },
  {
   "cell_type": "code",
   "execution_count": 19,
   "metadata": {},
   "outputs": [
    {
     "name": "stdout",
     "output_type": "stream",
     "text": [
      "Enter the value: 2\n",
      "2 * 1 = 2\n",
      "2 * 2 = 4\n",
      "2 * 3 = 6\n",
      "2 * 4 = 8\n",
      "2 * 5 = 10\n",
      "2 * 6 = 12\n",
      "2 * 7 = 14\n",
      "2 * 8 = 16\n",
      "2 * 9 = 18\n",
      "2 * 10 = 20\n"
     ]
    }
   ],
   "source": [
    "i = 1\n",
    "a = int(input(\"Enter the value: \"))\n",
    "while i<=10:\n",
    "    print(a,\"*\",i, \"=\",a*i)\n",
    "    i = i+1"
   ]
  },
  {
   "cell_type": "code",
   "execution_count": 21,
   "metadata": {},
   "outputs": [
    {
     "name": "stdout",
     "output_type": "stream",
     "text": [
      "Enter the number to multiply: 10\n",
      "10 * 1 = 10\n",
      "10 * 2 = 20\n",
      "10 * 3 = 30\n",
      "10 * 4 = 40\n",
      "10 * 5 = 50\n",
      "10 * 6 = 60\n",
      "10 * 7 = 70\n",
      "10 * 8 = 80\n",
      "10 * 9 = 90\n"
     ]
    }
   ],
   "source": [
    "i = int(input(\"Enter the number to multiply: \"))\n",
    "for a in range(1,10):\n",
    "    print(i, \"*\", a, \"=\",a*i)\n",
    "    "
   ]
  },
  {
   "cell_type": "code",
   "execution_count": 37,
   "metadata": {},
   "outputs": [
    {
     "name": "stdout",
     "output_type": "stream",
     "text": [
      "hello Boss lets Play a Nice Game\n"
     ]
    }
   ],
   "source": [
    "a = ('Boss','Nice')\n",
    "b= [\"Game\", \"Play\"]\n",
    "output = f\"hello {a[0]} lets {b[1]} a {a[1]} {b[0]}\"\n",
    "print(output)"
   ]
  },
  {
   "cell_type": "code",
   "execution_count": 48,
   "metadata": {},
   "outputs": [
    {
     "name": "stdout",
     "output_type": "stream",
     "text": [
      "Enter the value to check: t\n",
      "There are  4\n"
     ]
    }
   ],
   "source": [
    "check = (\"Lets start to search\")\n",
    "a = input(\"Enter the value to check: \")\n",
    "if a in check:\n",
    "    print(\"There are \", check.count(a))\n",
    "else:\n",
    "    print(\"There is no such things\")\n",
    "x = (\"Enter the value to check again: \")\n",
    "if x==\"y\":\n",
    "    print(a)"
   ]
  },
  {
   "cell_type": "code",
   "execution_count": 51,
   "metadata": {},
   "outputs": [
    {
     "data": {
      "text/plain": [
       "tuple"
      ]
     },
     "execution_count": 51,
     "metadata": {},
     "output_type": "execute_result"
    }
   ],
   "source": [
    "a = ['a']\n",
    "b = ('b',)\n",
    "type(a)\n",
    "type(b)"
   ]
  },
  {
   "cell_type": "code",
   "execution_count": 54,
   "metadata": {},
   "outputs": [
    {
     "name": "stdout",
     "output_type": "stream",
     "text": [
      "Enter the number to run the loop: 3\n",
      "Enter your name: paul\n",
      "Enter your name: bob\n",
      "Enter your name: anna\n",
      "['paul', 'bob', 'anna']\n"
     ]
    }
   ],
   "source": [
    "n = int(input(\"Enter the number to run the loop: \"))\n",
    "empty = []\n",
    "for i in range(n):\n",
    "    name = input(\"Enter your name: \")\n",
    "    empty = empty + [name]\n",
    "print(empty)"
   ]
  },
  {
   "cell_type": "code",
   "execution_count": 55,
   "metadata": {},
   "outputs": [
    {
     "name": "stdout",
     "output_type": "stream",
     "text": [
      "Enter the duplicate value = Apple\n",
      "['1cat', 'Zebra', 'all', 'sadasd', 'Apple']\n"
     ]
    }
   ],
   "source": [
    "a = ['1cat', 'Apple', 'Zebra', 'all', 'sadasd','Apple','Apple']\n",
    "b = input(\"Enter the duplicate value = \")\n",
    "n = a.count(b)\n",
    "for i in range(n-1):\n",
    "    a.remove(b)\n",
    "print(a)"
   ]
  },
  {
   "cell_type": "code",
   "execution_count": 56,
   "metadata": {},
   "outputs": [
    {
     "name": "stdout",
     "output_type": "stream",
     "text": [
      "Which value to remove = all\n",
      "Replace withnothing\n",
      "['1cat', 'Apple', 'Zebra', 'nothing', 'sadasd', 'Apple', 'Apple']\n"
     ]
    }
   ],
   "source": [
    "a = ['1cat', 'Apple', 'Zebra', 'all', 'sadasd','Apple','Apple']\n",
    "b = input(\"Which value to remove = \")\n",
    "c = input(\"Replace with\")\n",
    "\n",
    "n = a.count(b)\n",
    "\n",
    "for i in range(n):\n",
    "    index = a.index(b)\n",
    "    a[index]=c\n",
    "print(a)\n"
   ]
  },
  {
   "cell_type": "code",
   "execution_count": null,
   "metadata": {},
   "outputs": [],
   "source": [
    "r=int(input(\"Enter the number of rows\"))\n",
    "c=int(input(\"Enter the number of columns\"))\n",
    "mat=[ ]\n",
    "\n",
    "for i in range(r):\n",
    "    mat.append([ ])\n",
    "    for j in range(c):\n",
    "        x=int(input(\"Enter the element\"))\n",
    "        mat[i].append(x)\n",
    "\n",
    "print(mat)"
   ]
  }
 ],
 "metadata": {
  "kernelspec": {
   "display_name": "Python 3",
   "language": "python",
   "name": "python3"
  },
  "language_info": {
   "codemirror_mode": {
    "name": "ipython",
    "version": 3
   },
   "file_extension": ".py",
   "mimetype": "text/x-python",
   "name": "python",
   "nbconvert_exporter": "python",
   "pygments_lexer": "ipython3",
   "version": "3.7.4"
  }
 },
 "nbformat": 4,
 "nbformat_minor": 2
}

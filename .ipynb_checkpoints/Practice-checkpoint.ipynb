{
 "cells": [
  {
   "cell_type": "code",
   "execution_count": 20,
   "metadata": {},
   "outputs": [
    {
     "name": "stdout",
     "output_type": "stream",
     "text": [
      "We have successfully printed a\n",
      "we have successfully printed n\n",
      "None\n",
      "The value of a is: 1 The value of b is:  2\n",
      "Enter any number: 1\n",
      "Enter second number: 2\n",
      "The value of a is: 1 and The value of b is:  2\n",
      "Enter any value: 1\n",
      "Enter another value: 2\n",
      "The value of a is: 1 and The value of b is:  2\n"
     ]
    }
   ],
   "source": [
    "def practice():\n",
    "    a = print(\"We have successfully printed a\")\n",
    "    return a \n",
    "practice()\n",
    "\n",
    "\n",
    "n = print(\"we have successfully printed n\")\n",
    "def practice2(a):\n",
    "    print(a)\n",
    "practice2(n)\n",
    "\n",
    "\n",
    "def practice3(a,b):\n",
    "    print(\"The value of a is:\",a,\"The value of b is: \",b)\n",
    "practice3(1,2)\n",
    "\n",
    "\n",
    "a = input(\"Enter any number: \")\n",
    "b = input(\"Enter second number: \")\n",
    "\n",
    "\n",
    "def practice4(a,b):\n",
    "    print(\"The value of a is:\",a, \"and The value of b is: \",b)\n",
    "practice4(a,b)\n",
    "\n",
    "\n",
    "a = input(\"Enter any value: \")\n",
    "b = input(\"Enter another value: \")\n",
    "\n",
    "def practice5():\n",
    "    print(\"The value of a is:\",a, \"and The value of b is: \",b)\n",
    "practice5()\n"
   ]
  },
  {
   "cell_type": "code",
   "execution_count": 10,
   "metadata": {},
   "outputs": [
    {
     "name": "stdout",
     "output_type": "stream",
     "text": [
      "Enter any value: 4\n",
      "Enter any value: 5\n",
      "Enter the operator: (+ - * /): /\n",
      "0.8\n"
     ]
    }
   ],
   "source": [
    "# Wap to build a calculator:\n",
    "a = int(input(\"Enter any value: \"))\n",
    "b = int(input(\"Enter any value: \"))\n",
    "op = input(\"Enter the operator: (+ - * /): \")\n",
    "\n",
    "def add(a,b):\n",
    "    return a+b\n",
    "\n",
    "def sub(a,b):\n",
    "    return a-b\n",
    "\n",
    "def mul(a,b):\n",
    "    return a*b\n",
    "\n",
    "def div(a,b):\n",
    "    return a/b\n",
    "\n",
    "if op == '+':\n",
    "    print(add(a,b))\n",
    "    \n",
    "elif op == '-':\n",
    "    print(sub(a,b))\n",
    "    \n",
    "elif op == '*':\n",
    "    print(mul(a,b))\n",
    "\n",
    "elif op == '/':\n",
    "    print(div(a,b))\n",
    "    \n",
    "else:\n",
    "    print(\"Program error\")"
   ]
  },
  {
   "cell_type": "code",
   "execution_count": 29,
   "metadata": {},
   "outputs": [
    {
     "name": "stdout",
     "output_type": "stream",
     "text": [
      "     \n",
      "      * \n",
      "      *  * \n",
      "      *  *  * \n",
      "      *  *  *  * \n",
      "      *  *  *  *  * \n",
      " * * * * *\n",
      " * * * *\n",
      " * * *\n",
      " * *\n",
      " *\n",
      "\n"
     ]
    }
   ],
   "source": [
    "count = 5\n",
    "n = 0\n",
    "while count>=0:\n",
    "    while n<=5:\n",
    "        print(\" \"*count + \" * \"*n  )\n",
    "        n = n+1\n",
    "    count = count - 1\n",
    "a = 0\n",
    "b = 5\n",
    "while a<=5:\n",
    "    while b>=0:\n",
    "        print(\" \",a + \" *\"*a)\n",
    "        b = b - 1\n",
    "    a = a + 1"
   ]
  },
  {
   "cell_type": "code",
   "execution_count": 6,
   "metadata": {},
   "outputs": [],
   "source": [
    "# n = int(input(\"How many times do you want to run the program: \"))\n",
    "# x = []\n",
    "# def li():\n",
    "#     for i in range(n):\n",
    "#         a = input(\"Please Enter any value: \")\n",
    "#         x.append(a)\n",
    "#         print(x)\n",
    "# li()\n",
    "a = ['a','b','c','d','e']\n",
    "x = ()\n",
    "def tu(a):\n",
    "    x = (a,)\n",
    "tu(a)\n",
    "    "
   ]
  },
  {
   "cell_type": "code",
   "execution_count": 1,
   "metadata": {},
   "outputs": [],
   "source": [
    "# how to call the local variable to global variable"
   ]
  },
  {
   "cell_type": "code",
   "execution_count": 3,
   "metadata": {},
   "outputs": [
    {
     "name": "stdout",
     "output_type": "stream",
     "text": [
      "The name of the student is BOB. The age of the student is 22\n"
     ]
    }
   ],
   "source": []
  },
  {
   "cell_type": "code",
   "execution_count": 3,
   "metadata": {},
   "outputs": [
    {
     "name": "stdout",
     "output_type": "stream",
     "text": [
      "Ram\n",
      "The address of the student is: Patan\n",
      "Patan\n",
      "bob\n",
      "56\n",
      "The name of the student is bob.The age of the student is None.The address of the student is ktm\n"
     ]
    }
   ],
   "source": [
    "class Name:\n",
    "    def __init__(self,name):\n",
    "        self.name = name\n",
    "        print(name)\n",
    "        \n",
    "class Age:\n",
    "    def age(self,age=56):\n",
    "        print(age)\n",
    "        \n",
    "class Address:\n",
    "    def __init__(self,address):\n",
    "        self.address = address\n",
    "    \n",
    "    def add(self):\n",
    "        print(\"The address of the student is:\", self.address)\n",
    "\n",
    "class All(Name,Age,Address):\n",
    "    def __init__(self,name,address):\n",
    "        Name.__init__(self,name)\n",
    "#         Age.__init__(self,age)\n",
    "        Address.__init__(self,address)\n",
    "        # Age.age(self.age)\n",
    "        \n",
    "        \n",
    "    def all(self):\n",
    "        print(f\"The name of the student is {self.name}.The age of the student is { super().age()}.The address of the student is {self.address}\")\n",
    "#         a = super().age(self,age)\n",
    "x = Name(\"Ram\")\n",
    "y = Age()\n",
    "    # can we call in All class??          \n",
    "z = Address(\"Patan\") \n",
    "z.add()\n",
    "print(z.address)\n",
    "w = All(\"bob\",\"ktm\")\n",
    "# w = All()\n",
    "w.all()"
   ]
  },
  {
   "cell_type": "code",
   "execution_count": null,
   "metadata": {},
   "outputs": [],
   "source": []
  }
 ],
 "metadata": {
  "kernelspec": {
   "display_name": "Python 3",
   "language": "python",
   "name": "python3"
  },
  "language_info": {
   "codemirror_mode": {
    "name": "ipython",
    "version": 3
   },
   "file_extension": ".py",
   "mimetype": "text/x-python",
   "name": "python",
   "nbconvert_exporter": "python",
   "pygments_lexer": "ipython3",
   "version": "3.7.4"
  }
 },
 "nbformat": 4,
 "nbformat_minor": 2
}

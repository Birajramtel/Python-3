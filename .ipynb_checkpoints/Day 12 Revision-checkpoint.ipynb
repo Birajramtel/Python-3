{
 "cells": [
  {
   "cell_type": "code",
   "execution_count": 1,
   "metadata": {},
   "outputs": [
    {
     "data": {
      "text/plain": [
       "{'a': 'apple', 'b': 'ball', 'c': 'cat'}"
      ]
     },
     "execution_count": 1,
     "metadata": {},
     "output_type": "execute_result"
    }
   ],
   "source": [
    "a = {'a':'apple','b':'ball'}\n",
    "b= {'c':'cat'}\n",
    "a.update(b)\n",
    "a\n"
   ]
  },
  {
   "cell_type": "code",
   "execution_count": 2,
   "metadata": {},
   "outputs": [
    {
     "data": {
      "text/plain": [
       "'apple'"
      ]
     },
     "execution_count": 2,
     "metadata": {},
     "output_type": "execute_result"
    }
   ],
   "source": [
    "{'a': 'apple', 'b': 'ball', 'c': 'cat'}\n",
    "\n",
    "a.get(\"a\")"
   ]
  },
  {
   "cell_type": "code",
   "execution_count": 1,
   "metadata": {},
   "outputs": [],
   "source": [
    "# unordered dictornary to ordered dictionary by index\n",
    "# a = 'ram shyam hari'\n",
    "# into\n",
    "# ['ram','shyam','hari']\n",
    "\n"
   ]
  },
  {
   "cell_type": "code",
   "execution_count": 6,
   "metadata": {},
   "outputs": [
    {
     "name": "stdout",
     "output_type": "stream",
     "text": [
      "How many times do you want to run the program: 1\n",
      "Enter any roll number: 2\n",
      "Enter the name: ram\n",
      "Enter the age: 22\n",
      "Enter the address: kathmandu\n",
      "{2: ['RAM', 22, 'KATHMANDU']}\n"
     ]
    }
   ],
   "source": [
    "n = int(input(\"How many times do you want to run the program: \"))\n",
    "info = {}\n",
    "for i in range(n):\n",
    "    roll = int(input(\"Enter any roll number: \"))\n",
    "    name = input(\"Enter the name: \")\n",
    "    age = int(input(\"Enter the age: \"))\n",
    "    address = input(\"Enter the address: \")\n",
    "    li = [name.upper(), age,address.upper()]\n",
    "    info[roll] = li\n",
    "sorted_dict = dict(sorted(info.items()))\n",
    "print(sorted_dict)"
   ]
  },
  {
   "cell_type": "code",
   "execution_count": 1,
   "metadata": {},
   "outputs": [
    {
     "name": "stdout",
     "output_type": "stream",
     "text": [
      "How many times do you want to run the program: e\n",
      "Enter integer value only.\n"
     ]
    },
    {
     "ename": "NameError",
     "evalue": "name 'n' is not defined",
     "output_type": "error",
     "traceback": [
      "\u001b[1;31m---------------------------------------------------------------------------\u001b[0m",
      "\u001b[1;31mNameError\u001b[0m                                 Traceback (most recent call last)",
      "\u001b[1;32m<ipython-input-1-1ec93b9c72d3>\u001b[0m in \u001b[0;36m<module>\u001b[1;34m\u001b[0m\n\u001b[0;32m      6\u001b[0m     \u001b[0minfo\u001b[0m \u001b[1;33m=\u001b[0m \u001b[1;33m{\u001b[0m\u001b[1;33m}\u001b[0m\u001b[1;33m\u001b[0m\u001b[1;33m\u001b[0m\u001b[0m\n\u001b[0;32m      7\u001b[0m \u001b[0mcheck\u001b[0m\u001b[1;33m(\u001b[0m\u001b[1;33m)\u001b[0m\u001b[1;33m\u001b[0m\u001b[1;33m\u001b[0m\u001b[0m\n\u001b[1;32m----> 8\u001b[1;33m \u001b[1;32mfor\u001b[0m \u001b[0mi\u001b[0m \u001b[1;32min\u001b[0m \u001b[0mrange\u001b[0m\u001b[1;33m(\u001b[0m\u001b[0mn\u001b[0m\u001b[1;33m)\u001b[0m\u001b[1;33m:\u001b[0m\u001b[1;33m\u001b[0m\u001b[1;33m\u001b[0m\u001b[0m\n\u001b[0m\u001b[0;32m      9\u001b[0m     \u001b[1;32mtry\u001b[0m\u001b[1;33m:\u001b[0m\u001b[1;33m\u001b[0m\u001b[1;33m\u001b[0m\u001b[0m\n\u001b[0;32m     10\u001b[0m         \u001b[0mroll\u001b[0m \u001b[1;33m=\u001b[0m \u001b[0mint\u001b[0m\u001b[1;33m(\u001b[0m\u001b[0minput\u001b[0m\u001b[1;33m(\u001b[0m\u001b[1;34m\"Enter any roll number: \"\u001b[0m\u001b[1;33m)\u001b[0m\u001b[1;33m)\u001b[0m\u001b[1;33m\u001b[0m\u001b[1;33m\u001b[0m\u001b[0m\n",
      "\u001b[1;31mNameError\u001b[0m: name 'n' is not defined"
     ]
    }
   ],
   "source": [
    "def check():\n",
    "    try:\n",
    "        n = int(input(\"How many times do you want to run the program: \"))\n",
    "    except:\n",
    "        print(\"Enter integer value only.\")\n",
    "    info = {}\n",
    "r = check()\n",
    "for i in range(n):\n",
    "    try:\n",
    "        roll = int(input(\"Enter any roll number: \"))\n",
    "    except:\n",
    "        print(\"Enter integer value only.\")\n",
    "        roll = int(input(\"Enter any roll number: \"))\n",
    "    name = input(\"Enter the name: \")\n",
    "    try:\n",
    "        age = int(input(\"Enter the age: \"))\n",
    "    except:\n",
    "        print(\"Enter correct age.\")\n",
    "        age =int(input(\"Enter the age. \"))\n",
    "    address = input(\"Enter the address: \")\n",
    "    li = [name, age,address]\n",
    "    info[roll] = li\n",
    "sorted_dict = dict(sorted(info.items()))\n",
    "print(sorted_dict)"
   ]
  },
  {
   "cell_type": "code",
   "execution_count": 16,
   "metadata": {},
   "outputs": [
    {
     "name": "stdout",
     "output_type": "stream",
     "text": [
      "Enter your password: a&&\n"
     ]
    },
    {
     "ename": "TypeError",
     "evalue": "must be str, not set",
     "output_type": "error",
     "traceback": [
      "\u001b[1;31m---------------------------------------------------------------------------\u001b[0m",
      "\u001b[1;31mTypeError\u001b[0m                                 Traceback (most recent call last)",
      "\u001b[1;32m<ipython-input-16-8f73d24d63fb>\u001b[0m in \u001b[0;36m<module>\u001b[1;34m\u001b[0m\n\u001b[0;32m      8\u001b[0m \u001b[1;31m# else:\u001b[0m\u001b[1;33m\u001b[0m\u001b[1;33m\u001b[0m\u001b[1;33m\u001b[0m\u001b[0m\n\u001b[0;32m      9\u001b[0m \u001b[1;31m#     print(\"Your password is strong\")\u001b[0m\u001b[1;33m\u001b[0m\u001b[1;33m\u001b[0m\u001b[1;33m\u001b[0m\u001b[0m\n\u001b[1;32m---> 10\u001b[1;33m \u001b[0mf\u001b[0m \u001b[1;33m=\u001b[0m \u001b[0md\u001b[0m\u001b[1;33m.\u001b[0m\u001b[0mcount\u001b[0m\u001b[1;33m(\u001b[0m\u001b[0ma\u001b[0m\u001b[1;33m)\u001b[0m\u001b[1;33m\u001b[0m\u001b[1;33m\u001b[0m\u001b[0m\n\u001b[0m\u001b[0;32m     11\u001b[0m \u001b[1;32mif\u001b[0m \u001b[0mi\u001b[0m \u001b[1;32min\u001b[0m \u001b[0mrange\u001b[0m\u001b[1;33m(\u001b[0m\u001b[0mf\u001b[0m\u001b[1;33m)\u001b[0m \u001b[1;33m:\u001b[0m\u001b[1;33m\u001b[0m\u001b[1;33m\u001b[0m\u001b[0m\n\u001b[0;32m     12\u001b[0m     \u001b[0mprint\u001b[0m\u001b[1;33m(\u001b[0m\u001b[1;34m\"The mail is valid\"\u001b[0m\u001b[1;33m)\u001b[0m\u001b[1;33m\u001b[0m\u001b[1;33m\u001b[0m\u001b[0m\n",
      "\u001b[1;31mTypeError\u001b[0m: must be str, not set"
     ]
    }
   ],
   "source": [
    "n = input(\"Enter your password: \")\n",
    "a = set(n)\n",
    "b = list(a)\n",
    "c = len(b)\n",
    "d = str(\"! @ , # $ % ^ & * ( ) _ + ? ?\")\n",
    "# if c<8:\n",
    "#     print(\"Password must be more than 8 character\")\n",
    "# else:\n",
    "#     print(\"Your password is strong\") \n",
    "f = d.count(a)\n",
    "if i in range(f) :\n",
    "    print(\"The mail is valid\")\n",
    "else:\n",
    "    print(\"Value not found\")\n",
    "print(x)\n",
    "\n",
    "# else:\n",
    "#     print(\"You must include one Speical character\")\n",
    "# # except:\n",
    "#     print(\"The characters must be included\")"
   ]
  },
  {
   "cell_type": "code",
   "execution_count": 25,
   "metadata": {},
   "outputs": [
    {
     "name": "stdout",
     "output_type": "stream",
     "text": [
      "Enter any value: dhibiuagsiu\n"
     ]
    },
    {
     "data": {
      "text/plain": [
       "['d', 'h', 'i', 'b', 'i', 'u', 'a', 'g', 's', 'i', 'u']"
      ]
     },
     "execution_count": 25,
     "metadata": {},
     "output_type": "execute_result"
    }
   ],
   "source": [
    "n = input(\"Enter any value: \")\n",
    "a = list(n)\n",
    "a"
   ]
  },
  {
   "cell_type": "code",
   "execution_count": 15,
   "metadata": {},
   "outputs": [
    {
     "name": "stdout",
     "output_type": "stream",
     "text": [
      "Enter any value: $%^&*(\n",
      "Enter same value to make dublicate: *\n",
      "1\n"
     ]
    }
   ],
   "source": [
    "a = input(\"Enter any value: \")\n",
    "b = input(\"Enter same value to make dublicate: \")\n",
    "n = a.count(b)\n",
    "if i in range(n):\n",
    "    print(\"The repeated value is\",n)\n",
    "print(n)"
   ]
  },
  {
   "cell_type": "code",
   "execution_count": null,
   "metadata": {},
   "outputs": [],
   "source": [
    "a = ['a','b','c','d','e']\n",
    "b = input(\"Enter dublicate value to delete: \")\n",
    "n = a.count(b)\n",
    "if i in range(n):\n",
    "    a.remove(b)\n",
    "print(a)"
   ]
  },
  {
   "cell_type": "code",
   "execution_count": null,
   "metadata": {},
   "outputs": [],
   "source": []
  }
 ],
 "metadata": {
  "kernelspec": {
   "display_name": "Python 3",
   "language": "python",
   "name": "python3"
  },
  "language_info": {
   "codemirror_mode": {
    "name": "ipython",
    "version": 3
   },
   "file_extension": ".py",
   "mimetype": "text/x-python",
   "name": "python",
   "nbconvert_exporter": "python",
   "pygments_lexer": "ipython3",
   "version": "3.7.4"
  }
 },
 "nbformat": 4,
 "nbformat_minor": 2
}

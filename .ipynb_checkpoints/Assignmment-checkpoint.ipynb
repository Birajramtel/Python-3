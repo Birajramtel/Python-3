{
 "cells": [
  {
   "cell_type": "code",
   "execution_count": 8,
   "metadata": {},
   "outputs": [
    {
     "name": "stdout",
     "output_type": "stream",
     "text": [
      "Enter the number to check whether the number is prime or not: 5\n",
      "5 is a prime number\n",
      "continue n\n"
     ]
    }
   ],
   "source": [
    "# Write a program to find the prime and conjugate no\n",
    "def prime(n):\n",
    "    n = int(input(\"Enter the number to check whether the number is prime or not: \"))\n",
    "    if(n%2 == 0):\n",
    "        if n==2:\n",
    "            print(n,\"is a prime number\")\n",
    "        else:\n",
    "             print(n,\"is conjugate number\")\n",
    "\n",
    "    elif(n%3 ==0):\n",
    "        if n==3:\n",
    "            print(n,\"is a prime number\")\n",
    "        else:\n",
    "            print(n,\"is a conjugate number\")\n",
    "\n",
    "    elif(n%5 ==0):\n",
    "        if n == 5:\n",
    "            print(n, \"is a prime number\")\n",
    "        else:\n",
    "            print(n,\"is a conjugate number\")\n",
    "\n",
    "    elif n%7 ==0:\n",
    "        if n==7:\n",
    "            print(n, \"is a prime number\")\n",
    "        else:\n",
    "            print(n, \"is a conjugent number\")\n",
    "    else:\n",
    "        print(n,\"is a prime number\")\n",
    "prime(n)"
   ]
  },
  {
   "cell_type": "code",
   "execution_count": null,
   "metadata": {},
   "outputs": [],
   "source": []
  },
  {
   "cell_type": "code",
   "execution_count": 11,
   "metadata": {},
   "outputs": [
    {
     "name": "stdout",
     "output_type": "stream",
     "text": [
      "Please Enter any number: 5\n",
      "[0, 1, 1]\n",
      "[2, 3, 5]\n",
      "[8, 13, 21]\n",
      "[34, 55, 89]\n",
      "[144, 233, 377]\n",
      "[610, 987, 1597]\n"
     ]
    }
   ],
   "source": [
    "# Write a program to find Fibonacci sequence.\n",
    "n = int(input(\"Please Enter any number: \"))\n",
    "a = 0\n",
    "b = 1\n",
    "c = a + b\n",
    "while n >= 0:\n",
    "    print([a, b, c])\n",
    "    a = b + c\n",
    "    b = a + c\n",
    "    n = n - 1\n",
    "    c = a + b\n",
    "    "
   ]
  },
  {
   "cell_type": "code",
   "execution_count": 11,
   "metadata": {},
   "outputs": [
    {
     "name": "stdout",
     "output_type": "stream",
     "text": [
      "Enter the number: 6\n"
     ]
    },
    {
     "data": {
      "text/plain": [
       "720"
      ]
     },
     "execution_count": 11,
     "metadata": {},
     "output_type": "execute_result"
    }
   ],
   "source": [
    "# Write a program to find factorial\n",
    "import math as m\n",
    "n =  int(input(\"Enter the number: \"))\n",
    "m.factorial(n)"
   ]
  },
  {
   "cell_type": "code",
   "execution_count": 12,
   "metadata": {},
   "outputs": [
    {
     "name": "stdout",
     "output_type": "stream",
     "text": [
      "Enter the number: 6\n",
      "30\n",
      "20\n",
      "12\n",
      "6\n",
      "2\n",
      "0\n"
     ]
    }
   ],
   "source": [
    "# Write a program to find factorial\n",
    "n =  int(input(\"Enter the number: \"))\n",
    "while n>=1:\n",
    "    a = n - 1\n",
    "    print(n * a)\n",
    "    n = n - 1\n",
    "    a = a - 1"
   ]
  },
  {
   "cell_type": "code",
   "execution_count": 11,
   "metadata": {},
   "outputs": [
    {
     "name": "stdout",
     "output_type": "stream",
     "text": [
      "Enter the number : 6\n",
      "******\n",
      "*****\n"
     ]
    }
   ],
   "source": [
    "# Write a program using while loop as if/else\n",
    "n = int(input(\"Enter the number : \"))\n",
    "def star(a):\n",
    "    if a >=0 :\n",
    "        print(\"*\"*a)\n",
    "        a = n-1\n",
    "        print(\"*\"*a)\n",
    "    else:\n",
    "        pass\n",
    "star(n)"
   ]
  },
  {
   "cell_type": "code",
   "execution_count": 14,
   "metadata": {},
   "outputs": [
    {
     "name": "stdout",
     "output_type": "stream",
     "text": [
      "Enter the number: 4\n"
     ]
    },
    {
     "ename": "UnboundLocalError",
     "evalue": "local variable 'n' referenced before assignment",
     "output_type": "error",
     "traceback": [
      "\u001b[1;31m---------------------------------------------------------------------------\u001b[0m",
      "\u001b[1;31mUnboundLocalError\u001b[0m                         Traceback (most recent call last)",
      "\u001b[1;32m<ipython-input-14-25fa7960a680>\u001b[0m in \u001b[0;36m<module>\u001b[1;34m\u001b[0m\n\u001b[0;32m      5\u001b[0m         \u001b[0mn\u001b[0m \u001b[1;33m=\u001b[0m \u001b[0mn\u001b[0m \u001b[1;33m*\u001b[0m\u001b[1;33m(\u001b[0m\u001b[0mn\u001b[0m \u001b[1;33m-\u001b[0m\u001b[1;36m1\u001b[0m\u001b[1;33m)\u001b[0m\u001b[1;33m\u001b[0m\u001b[1;33m\u001b[0m\u001b[0m\n\u001b[0;32m      6\u001b[0m         \u001b[1;32mreturn\u001b[0m \u001b[0mn\u001b[0m\u001b[1;33m\u001b[0m\u001b[1;33m\u001b[0m\u001b[0m\n\u001b[1;32m----> 7\u001b[1;33m \u001b[0mfactorial\u001b[0m\u001b[1;33m(\u001b[0m\u001b[1;33m)\u001b[0m\u001b[1;33m\u001b[0m\u001b[1;33m\u001b[0m\u001b[0m\n\u001b[0m\u001b[0;32m      8\u001b[0m \u001b[0mz\u001b[0m \u001b[1;33m=\u001b[0m \u001b[0mfactorial\u001b[0m\u001b[1;33m(\u001b[0m\u001b[1;33m)\u001b[0m\u001b[1;33m\u001b[0m\u001b[1;33m\u001b[0m\u001b[0m\n\u001b[0;32m      9\u001b[0m \u001b[0mprint\u001b[0m\u001b[1;33m(\u001b[0m\u001b[0mz\u001b[0m\u001b[1;33m*\u001b[0m\u001b[1;33m(\u001b[0m\u001b[0mn\u001b[0m\u001b[1;33m-\u001b[0m\u001b[1;36m1\u001b[0m\u001b[1;33m)\u001b[0m\u001b[1;33m)\u001b[0m\u001b[1;33m\u001b[0m\u001b[1;33m\u001b[0m\u001b[0m\n",
      "\u001b[1;32m<ipython-input-14-25fa7960a680>\u001b[0m in \u001b[0;36mfactorial\u001b[1;34m()\u001b[0m\n\u001b[0;32m      2\u001b[0m \u001b[0mn\u001b[0m \u001b[1;33m=\u001b[0m  \u001b[0mint\u001b[0m\u001b[1;33m(\u001b[0m\u001b[0minput\u001b[0m\u001b[1;33m(\u001b[0m\u001b[1;34m\"Enter the number: \"\u001b[0m\u001b[1;33m)\u001b[0m\u001b[1;33m)\u001b[0m\u001b[1;33m\u001b[0m\u001b[1;33m\u001b[0m\u001b[0m\n\u001b[0;32m      3\u001b[0m \u001b[1;32mdef\u001b[0m \u001b[0mfactorial\u001b[0m\u001b[1;33m(\u001b[0m\u001b[1;33m)\u001b[0m\u001b[1;33m:\u001b[0m\u001b[1;33m\u001b[0m\u001b[1;33m\u001b[0m\u001b[0m\n\u001b[1;32m----> 4\u001b[1;33m     \u001b[1;32mwhile\u001b[0m \u001b[0mn\u001b[0m\u001b[1;33m!=\u001b[0m\u001b[1;36m0\u001b[0m\u001b[1;33m:\u001b[0m\u001b[1;33m\u001b[0m\u001b[1;33m\u001b[0m\u001b[0m\n\u001b[0m\u001b[0;32m      5\u001b[0m         \u001b[0mn\u001b[0m \u001b[1;33m=\u001b[0m \u001b[0mn\u001b[0m \u001b[1;33m*\u001b[0m\u001b[1;33m(\u001b[0m\u001b[0mn\u001b[0m \u001b[1;33m-\u001b[0m\u001b[1;36m1\u001b[0m\u001b[1;33m)\u001b[0m\u001b[1;33m\u001b[0m\u001b[1;33m\u001b[0m\u001b[0m\n\u001b[0;32m      6\u001b[0m         \u001b[1;32mreturn\u001b[0m \u001b[0mn\u001b[0m\u001b[1;33m\u001b[0m\u001b[1;33m\u001b[0m\u001b[0m\n",
      "\u001b[1;31mUnboundLocalError\u001b[0m: local variable 'n' referenced before assignment"
     ]
    }
   ],
   "source": [
    "# Write a program to find factorial\n",
    "def factorial():\n",
    "    n =  int(input(\"Enter the number: \"))\n",
    "    while n!=0:\n",
    "        n = n *(n -1)\n",
    "        return n\n",
    "factorial()\n",
    "z = factorial()\n",
    "print(z*(n-1))\n"
   ]
  },
  {
   "cell_type": "markdown",
   "metadata": {},
   "source": []
  }
 ],
 "metadata": {
  "kernelspec": {
   "display_name": "Python 3",
   "language": "python",
   "name": "python3"
  },
  "language_info": {
   "codemirror_mode": {
    "name": "ipython",
    "version": 3
   },
   "file_extension": ".py",
   "mimetype": "text/x-python",
   "name": "python",
   "nbconvert_exporter": "python",
   "pygments_lexer": "ipython3",
   "version": "3.7.4"
  }
 },
 "nbformat": 4,
 "nbformat_minor": 2
}

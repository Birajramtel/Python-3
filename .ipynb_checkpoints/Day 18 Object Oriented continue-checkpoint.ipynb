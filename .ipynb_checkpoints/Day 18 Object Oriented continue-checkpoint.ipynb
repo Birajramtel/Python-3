{
 "cells": [
  {
   "cell_type": "code",
   "execution_count": 7,
   "metadata": {},
   "outputs": [
    {
     "name": "stdout",
     "output_type": "stream",
     "text": [
      "Hello I am Ram. And I am 23. And I am from Nepal\n",
      "Ram\n",
      "23\n"
     ]
    }
   ],
   "source": [
    "class Profile:\n",
    "    def __init__(self,name,age):\n",
    "        self.name = name\n",
    "        self.age = age\n",
    "class Hr(Profile):\n",
    "    def text(self,add):\n",
    "        print(f\"Hello I am {self.name}. And I am {self.age}. And I am from {add}\")\n",
    "x = Hr('Ram',23)\n",
    "x.text('Nepal')\n",
    "print(x.name)\n",
    "print(x.age)"
   ]
  },
  {
   "cell_type": "code",
   "execution_count": 9,
   "metadata": {},
   "outputs": [
    {
     "name": "stdout",
     "output_type": "stream",
     "text": [
      "Print this onew too\n",
      "Hello I am Ram. And I am 22. And I am from nepal\n",
      "Ram 22\n"
     ]
    }
   ],
   "source": [
    "class A:\n",
    "    def __init__(self,name,age):\n",
    "        self.name = name\n",
    "        self.age = age\n",
    "        print(\"Print this onew too\")\n",
    "class B(A):\n",
    "    def text(self,add):\n",
    "        print(f\"Hello I am {self.name}. And I am {self.age}. And I am from {add}\")\n",
    "class C(B):\n",
    "    def last(self):\n",
    "        print(self.name,self.age)\n",
    "x = C(\"Ram\",22)\n",
    "x.text(\"nepal\")\n",
    "x.last()\n"
   ]
  },
  {
   "cell_type": "code",
   "execution_count": 18,
   "metadata": {},
   "outputs": [
    {
     "name": "stdout",
     "output_type": "stream",
     "text": [
      "ram 22 patan\n"
     ]
    }
   ],
   "source": [
    "class A:\n",
    "    def __init__(self,name):\n",
    "        self.name = name\n",
    "        \n",
    "class B():\n",
    "    def __init__(self,age):\n",
    "        self.age = age\n",
    "        \n",
    "class C(A,B):\n",
    "    def __init__(self,name,age):\n",
    "        A.__init__(self,name)\n",
    "        B.__init__(self,age)\n",
    "    def last(self,add):\n",
    "        print(self.name,self.age, add)\n",
    "        \n",
    "\n",
    "z = C('ram',22)\n",
    "z.last('patan')\n"
   ]
  },
  {
   "cell_type": "code",
   "execution_count": 11,
   "metadata": {},
   "outputs": [
    {
     "name": "stdout",
     "output_type": "stream",
     "text": [
      "Your name is ram. and Your age is22. You live in nepal\n"
     ]
    }
   ],
   "source": [
    "class A:\n",
    "    def __init__(self,name,age):\n",
    "        self.name = name\n",
    "        self.age = age\n",
    "        \n",
    "class B(A):\n",
    "    \n",
    "    def __init__(self,name,age,address):\n",
    "        A.__init__(self,name,age)\n",
    "        self.address = address\n",
    "        \n",
    "    def text(self,address):\n",
    "        print(f\"Your name is {self.name}. and Your age is{self.age}. You live in {self.address}\")\n",
    "        \n",
    "        \n",
    "x = B('ram',22,'nepal')\n",
    "x.text(\"nepal\")\n",
    "\n"
   ]
  },
  {
   "cell_type": "code",
   "execution_count": 23,
   "metadata": {},
   "outputs": [
    {
     "name": "stdout",
     "output_type": "stream",
     "text": [
      "ram 22 patan\n"
     ]
    }
   ],
   "source": [
    "class A:\n",
    "    def __init__(self,name):\n",
    "        self.name = name\n",
    "        \n",
    "class B():\n",
    "    def __init__(self,age):\n",
    "        self.age = age\n",
    "        \n",
    "class C(A,B):\n",
    "    def __init__(self,name,age,add):\n",
    "        A.__init__(self,name)\n",
    "        B.__init__(self,age)\n",
    "        self.add = add\n",
    "    def last(self):\n",
    "        print(self.name,self.age, self.add)\n",
    "        \n",
    "\n",
    "z = C('ram',22,'patan')\n",
    "z.last()\n"
   ]
  },
  {
   "cell_type": "code",
   "execution_count": null,
   "metadata": {},
   "outputs": [],
   "source": []
  }
 ],
 "metadata": {
  "kernelspec": {
   "display_name": "Python 3",
   "language": "python",
   "name": "python3"
  },
  "language_info": {
   "codemirror_mode": {
    "name": "ipython",
    "version": 3
   },
   "file_extension": ".py",
   "mimetype": "text/x-python",
   "name": "python",
   "nbconvert_exporter": "python",
   "pygments_lexer": "ipython3",
   "version": "3.7.4"
  }
 },
 "nbformat": 4,
 "nbformat_minor": 2
}
